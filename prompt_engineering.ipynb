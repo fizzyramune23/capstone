{
 "cells": [
  {
   "cell_type": "code",
   "execution_count": 1,
   "id": "02ac5331",
   "metadata": {},
   "outputs": [],
   "source": [
    "import pandas as pd\n",
    "\n",
    "from transformers import pipeline\n",
    "import torch"
   ]
  },
  {
   "cell_type": "code",
   "execution_count": 2,
   "id": "7d121a34",
   "metadata": {},
   "outputs": [],
   "source": [
    "#model\n",
    "text2text_generator = pipeline(\"text2text-generation\", model = 'google/flan-t5-base')"
   ]
  },
  {
   "cell_type": "markdown",
   "id": "b34bf478",
   "metadata": {},
   "source": [
    "Prompt: You are a Twitter monitor trying to determine if the following tweet is cyberbullying or not. It is very important for you to correctly identify these tweets If the tweet is determined to be cyberbullying, classify it into one of the following classes based on the category of cyberbullying of the tweet: gender, age, ethnicity, other_cyberbullying, or religion. If the tweet is determined to not be cyberbullying, classify it as not_cyberbulling. Be careful to classify into one of the exact classes I presented. Classify the following tweet"
   ]
  },
  {
   "cell_type": "code",
   "execution_count": null,
   "id": "081ea6e7",
   "metadata": {},
   "outputs": [],
   "source": [
    "#Add validation to question \n",
    "questions = []\n",
    "for i in range(len(X_validation)):\n",
    "    questions.append(question + clean_x_validation[i])\n",
    "\n",
    "\n",
    "\n",
    "from tqdm import tqdm\n",
    "# Initialize tqdm with the total number of iterations\n",
    "with tqdm(total=len(X_validation)) as pbar:\n",
    "    for i in range(250):\n",
    "        # Your loop logic here\n",
    "        preds.append(text2text_generator(questions[i]))\n",
    "        # Update progress bar\n",
    "        pbar.update(1)\n"
   ]
  }
 ],
 "metadata": {
  "kernelspec": {
   "display_name": "Python 3 (ipykernel)",
   "language": "python",
   "name": "python3"
  },
  "language_info": {
   "codemirror_mode": {
    "name": "ipython",
    "version": 3
   },
   "file_extension": ".py",
   "mimetype": "text/x-python",
   "name": "python",
   "nbconvert_exporter": "python",
   "pygments_lexer": "ipython3",
   "version": "3.9.12"
  }
 },
 "nbformat": 4,
 "nbformat_minor": 5
}
