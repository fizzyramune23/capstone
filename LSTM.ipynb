{
 "cells": [
  {
   "cell_type": "markdown",
   "metadata": {
    "id": "JiIg_5F_5Qr9"
   },
   "source": [
    "# Detecting bullying Tweets with PyTorch LSTM + Attention "
   ]
  },
  {
   "cell_type": "markdown",
   "metadata": {
    "id": "AiabNLkT5QsB"
   },
   "source": [
    "This project is about the analysis of tweets about cyberbullying, with the goal of performing a Sentiment Analysis using LSTM w/ Attention on PyTorch to predict if a tweet is about cyberbullying or not. <br>\n",
    "In particular, bullying tweets are divided in 4 categories: religion, age, race and gender.<br>\n",
    "The project is divided in the following sections:\n",
    "\n",
    "- Data Import\n",
    "- Text cleaning with custom defined functions\n",
    "- Data preparation for LSTM RNN: Tokenization\n",
    "- PyTorch LSTM RNN Classifier w/ Attention\n",
    "- Results summary\n"
   ]
  },
  {
   "cell_type": "code",
   "execution_count": 1,
   "metadata": {
    "_cell_guid": "b1076dfc-b9ad-4769-8c92-a6c4dae69d19",
    "_kg_hide-input": true,
    "_uuid": "8f2839f25d086af736a60e9eeb907d3b93b6e0e5",
    "execution": {
     "iopub.execute_input": "2023-06-02T01:54:45.149191Z",
     "iopub.status.busy": "2023-06-02T01:54:45.148845Z",
     "iopub.status.idle": "2023-06-02T01:54:45.178621Z",
     "shell.execute_reply": "2023-06-02T01:54:45.177806Z",
     "shell.execute_reply.started": "2023-06-02T01:54:45.149127Z"
    },
    "id": "pChhxDsk5QsD"
   },
   "outputs": [
    {
     "name": "stdout",
     "output_type": "stream",
     "text": [
      "/kaggle/input/cyberbullying-classification/cyberbullying_tweets.csv\n"
     ]
    }
   ],
   "source": [
    "import os\n",
    "for dirname, _, filenames in os.walk('/kaggle/input'):\n",
    "    for filename in filenames:\n",
    "        print(os.path.join(dirname, filename))"
   ]
  },
  {
   "cell_type": "markdown",
   "metadata": {},
   "source": [
    "## Custom functions definition:"
   ]
  },
  {
   "cell_type": "code",
   "execution_count": 2,
   "metadata": {
    "_kg_hide-input": true,
    "execution": {
     "iopub.execute_input": "2023-06-02T01:54:45.185395Z",
     "iopub.status.busy": "2023-06-02T01:54:45.184756Z",
     "iopub.status.idle": "2023-06-02T01:54:45.193440Z",
     "shell.execute_reply": "2023-06-02T01:54:45.192600Z",
     "shell.execute_reply.started": "2023-06-02T01:54:45.185352Z"
    }
   },
   "outputs": [],
   "source": [
    "def conf_matrix(y, y_pred, title, labels):\n",
    "    fig, ax =plt.subplots(figsize=(7.5,7.5))\n",
    "    ax=sns.heatmap(confusion_matrix(y, y_pred), annot=True, cmap=\"Purples\", fmt='g', cbar=False, annot_kws={\"size\":30})\n",
    "    plt.title(title, fontsize=25)\n",
    "    ax.xaxis.set_ticklabels(labels, fontsize=16) \n",
    "    ax.yaxis.set_ticklabels(labels, fontsize=14.5)\n",
    "    ax.set_ylabel('Test', fontsize=25)\n",
    "    ax.set_xlabel('Predicted', fontsize=25)\n",
    "    plt.show()"
   ]
  },
  {
   "cell_type": "code",
   "execution_count": 3,
   "metadata": {
    "execution": {
     "iopub.execute_input": "2023-06-02T01:54:45.196911Z",
     "iopub.status.busy": "2023-06-02T01:54:45.196376Z",
     "iopub.status.idle": "2023-06-02T01:54:54.147482Z",
     "shell.execute_reply": "2023-06-02T01:54:54.146535Z",
     "shell.execute_reply.started": "2023-06-02T01:54:45.196864Z"
    }
   },
   "outputs": [
    {
     "name": "stdout",
     "output_type": "stream",
     "text": [
      "Requirement already satisfied: langdetect in /opt/conda/lib/python3.7/site-packages (1.0.9)\n",
      "Requirement already satisfied: six in /opt/conda/lib/python3.7/site-packages (from langdetect) (1.16.0)\n",
      "\u001b[33mWARNING: Running pip as the 'root' user can result in broken permissions and conflicting behaviour with the system package manager. It is recommended to use a virtual environment instead: https://pip.pypa.io/warnings/venv\u001b[0m\n",
      "Note: you may need to restart the kernel to use updated packages.\n"
     ]
    }
   ],
   "source": [
    "pip install langdetect"
   ]
  },
  {
   "cell_type": "code",
   "execution_count": 4,
   "metadata": {
    "execution": {
     "iopub.execute_input": "2023-06-02T01:54:54.151420Z",
     "iopub.status.busy": "2023-06-02T01:54:54.151160Z",
     "iopub.status.idle": "2023-06-02T01:55:03.265460Z",
     "shell.execute_reply": "2023-06-02T01:55:03.264506Z",
     "shell.execute_reply.started": "2023-06-02T01:54:54.151388Z"
    }
   },
   "outputs": [
    {
     "name": "stdout",
     "output_type": "stream",
     "text": [
      "Requirement already satisfied: contractions in /opt/conda/lib/python3.7/site-packages (0.1.73)\n",
      "Requirement already satisfied: textsearch>=0.0.21 in /opt/conda/lib/python3.7/site-packages (from contractions) (0.0.24)\n",
      "Requirement already satisfied: pyahocorasick in /opt/conda/lib/python3.7/site-packages (from textsearch>=0.0.21->contractions) (2.0.0)\n",
      "Requirement already satisfied: anyascii in /opt/conda/lib/python3.7/site-packages (from textsearch>=0.0.21->contractions) (0.3.2)\n",
      "\u001b[33mWARNING: Running pip as the 'root' user can result in broken permissions and conflicting behaviour with the system package manager. It is recommended to use a virtual environment instead: https://pip.pypa.io/warnings/venv\u001b[0m\n",
      "Note: you may need to restart the kernel to use updated packages.\n"
     ]
    }
   ],
   "source": [
    "pip install contractions"
   ]
  },
  {
   "cell_type": "markdown",
   "metadata": {},
   "source": [
    "## Import libraries"
   ]
  },
  {
   "cell_type": "code",
   "execution_count": 5,
   "metadata": {
    "execution": {
     "iopub.execute_input": "2023-06-02T01:55:03.267566Z",
     "iopub.status.busy": "2023-06-02T01:55:03.267318Z",
     "iopub.status.idle": "2023-06-02T01:55:06.717286Z",
     "shell.execute_reply": "2023-06-02T01:55:06.716524Z",
     "shell.execute_reply.started": "2023-06-02T01:55:03.267533Z"
    },
    "id": "D0GOzHmK5QsH",
    "outputId": "6d6c64e4-3e99-4f85-b52e-323b3c44638c"
   },
   "outputs": [
    {
     "data": {
      "text/plain": [
       "<Figure size 432x288 with 0 Axes>"
      ]
     },
     "metadata": {},
     "output_type": "display_data"
    }
   ],
   "source": [
    "# Libraries for general purpose\n",
    "import pandas as pd\n",
    "import numpy as np\n",
    "import matplotlib.pyplot as plt\n",
    "import seaborn as sns\n",
    "\n",
    "# Text cleaning\n",
    "import re\n",
    "import string\n",
    "import emoji\n",
    "import nltk\n",
    "from nltk.stem import WordNetLemmatizer, PorterStemmer\n",
    "from nltk.corpus import stopwords\n",
    "\n",
    "# Data preprocessing\n",
    "from sklearn import preprocessing\n",
    "from sklearn.model_selection import train_test_split\n",
    "from imblearn.over_sampling import RandomOverSampler\n",
    "from langdetect import detect, LangDetectException\n",
    "import contractions\n",
    "from nltk.tokenize import word_tokenize\n",
    "\n",
    "# PyTorch LSTM\n",
    "import torch\n",
    "import torch.nn as nn\n",
    "import torch.nn.functional as F\n",
    "import torch.optim as optim\n",
    "from torch.utils.data import TensorDataset, DataLoader, RandomSampler, SequentialSampler\n",
    "\n",
    "# Tokenization for LSTM\n",
    "from collections import Counter\n",
    "from gensim.models import Word2Vec\n",
    "\n",
    "import time\n",
    "\n",
    "# Set seed for reproducibility\n",
    "import random\n",
    "seed_value = 2042\n",
    "random.seed(seed_value)\n",
    "np.random.seed(seed_value)\n",
    "torch.manual_seed(seed_value)\n",
    "torch.cuda.manual_seed_all(seed_value)\n",
    "\n",
    "# Set style for plots\n",
    "sns.set_style(\"whitegrid\")\n",
    "sns.despine()\n",
    "plt.style.use(\"seaborn-whitegrid\")\n",
    "plt.rc(\"figure\", autolayout=True)\n",
    "plt.rc(\"axes\", labelweight=\"bold\", labelsize=\"large\", titleweight=\"bold\", titlepad=10)\n",
    "\n",
    "# Define stop words for text cleaning\n",
    "stop_words = set(stopwords.words('english'))\n",
    "\n",
    "# Initialize lemmatizer for text cleaning\n",
    "lemmatizer = WordNetLemmatizer()"
   ]
  },
  {
   "cell_type": "markdown",
   "metadata": {},
   "source": [
    "## Data Import"
   ]
  },
  {
   "cell_type": "code",
   "execution_count": 6,
   "metadata": {
    "execution": {
     "iopub.execute_input": "2023-06-02T01:55:06.719260Z",
     "iopub.status.busy": "2023-06-02T01:55:06.718963Z",
     "iopub.status.idle": "2023-06-02T01:55:06.835451Z",
     "shell.execute_reply": "2023-06-02T01:55:06.834613Z",
     "shell.execute_reply.started": "2023-06-02T01:55:06.719219Z"
    },
    "id": "aCVJ1XJi5QsI"
   },
   "outputs": [],
   "source": [
    "df = pd.read_csv(\"/kaggle/input/cyberbullying-classification/cyberbullying_tweets.csv\")"
   ]
  },
  {
   "cell_type": "code",
   "execution_count": 7,
   "metadata": {
    "execution": {
     "iopub.execute_input": "2023-06-02T01:55:06.839130Z",
     "iopub.status.busy": "2023-06-02T01:55:06.838891Z",
     "iopub.status.idle": "2023-06-02T01:55:06.852652Z",
     "shell.execute_reply": "2023-06-02T01:55:06.851746Z",
     "shell.execute_reply.started": "2023-06-02T01:55:06.839100Z"
    },
    "id": "NPhe4rM35QsJ",
    "outputId": "af96c916-52c8-431b-a85c-bb72d1ce6bce"
   },
   "outputs": [
    {
     "data": {
      "text/html": [
       "<div>\n",
       "<style scoped>\n",
       "    .dataframe tbody tr th:only-of-type {\n",
       "        vertical-align: middle;\n",
       "    }\n",
       "\n",
       "    .dataframe tbody tr th {\n",
       "        vertical-align: top;\n",
       "    }\n",
       "\n",
       "    .dataframe thead th {\n",
       "        text-align: right;\n",
       "    }\n",
       "</style>\n",
       "<table border=\"1\" class=\"dataframe\">\n",
       "  <thead>\n",
       "    <tr style=\"text-align: right;\">\n",
       "      <th></th>\n",
       "      <th>tweet_text</th>\n",
       "      <th>cyberbullying_type</th>\n",
       "    </tr>\n",
       "  </thead>\n",
       "  <tbody>\n",
       "    <tr>\n",
       "      <th>0</th>\n",
       "      <td>In other words #katandandre, your food was cra...</td>\n",
       "      <td>not_cyberbullying</td>\n",
       "    </tr>\n",
       "    <tr>\n",
       "      <th>1</th>\n",
       "      <td>Why is #aussietv so white? #MKR #theblock #ImA...</td>\n",
       "      <td>not_cyberbullying</td>\n",
       "    </tr>\n",
       "    <tr>\n",
       "      <th>2</th>\n",
       "      <td>@XochitlSuckkks a classy whore? Or more red ve...</td>\n",
       "      <td>not_cyberbullying</td>\n",
       "    </tr>\n",
       "    <tr>\n",
       "      <th>3</th>\n",
       "      <td>@Jason_Gio meh. :P  thanks for the heads up, b...</td>\n",
       "      <td>not_cyberbullying</td>\n",
       "    </tr>\n",
       "    <tr>\n",
       "      <th>4</th>\n",
       "      <td>@RudhoeEnglish This is an ISIS account pretend...</td>\n",
       "      <td>not_cyberbullying</td>\n",
       "    </tr>\n",
       "  </tbody>\n",
       "</table>\n",
       "</div>"
      ],
      "text/plain": [
       "                                          tweet_text cyberbullying_type\n",
       "0  In other words #katandandre, your food was cra...  not_cyberbullying\n",
       "1  Why is #aussietv so white? #MKR #theblock #ImA...  not_cyberbullying\n",
       "2  @XochitlSuckkks a classy whore? Or more red ve...  not_cyberbullying\n",
       "3  @Jason_Gio meh. :P  thanks for the heads up, b...  not_cyberbullying\n",
       "4  @RudhoeEnglish This is an ISIS account pretend...  not_cyberbullying"
      ]
     },
     "execution_count": 7,
     "metadata": {},
     "output_type": "execute_result"
    }
   ],
   "source": [
    "df.head()"
   ]
  },
  {
   "cell_type": "code",
   "execution_count": 8,
   "metadata": {
    "execution": {
     "iopub.execute_input": "2023-06-02T01:55:06.854815Z",
     "iopub.status.busy": "2023-06-02T01:55:06.854309Z",
     "iopub.status.idle": "2023-06-02T01:55:06.878423Z",
     "shell.execute_reply": "2023-06-02T01:55:06.877515Z",
     "shell.execute_reply.started": "2023-06-02T01:55:06.854770Z"
    }
   },
   "outputs": [
    {
     "name": "stdout",
     "output_type": "stream",
     "text": [
      "<class 'pandas.core.frame.DataFrame'>\n",
      "RangeIndex: 47692 entries, 0 to 47691\n",
      "Data columns (total 2 columns):\n",
      " #   Column              Non-Null Count  Dtype \n",
      "---  ------              --------------  ----- \n",
      " 0   tweet_text          47692 non-null  object\n",
      " 1   cyberbullying_type  47692 non-null  object\n",
      "dtypes: object(2)\n",
      "memory usage: 745.3+ KB\n"
     ]
    }
   ],
   "source": [
    "df.info()"
   ]
  },
  {
   "cell_type": "markdown",
   "metadata": {},
   "source": [
    "First we rename the columns using shorter words for easier reference."
   ]
  },
  {
   "cell_type": "code",
   "execution_count": 9,
   "metadata": {
    "execution": {
     "iopub.execute_input": "2023-06-02T01:55:06.880184Z",
     "iopub.status.busy": "2023-06-02T01:55:06.879820Z",
     "iopub.status.idle": "2023-06-02T01:55:06.887777Z",
     "shell.execute_reply": "2023-06-02T01:55:06.886991Z",
     "shell.execute_reply.started": "2023-06-02T01:55:06.880130Z"
    },
    "id": "AwUN352x5QsK"
   },
   "outputs": [],
   "source": [
    "df = df.rename(columns={'tweet_text': 'text', 'cyberbullying_type': 'sentiment'})"
   ]
  },
  {
   "cell_type": "markdown",
   "metadata": {
    "id": "u9wTHjTcc1D7"
   },
   "source": [
    "### Are there duplicated tweets?"
   ]
  },
  {
   "cell_type": "code",
   "execution_count": 10,
   "metadata": {
    "execution": {
     "iopub.execute_input": "2023-06-02T01:55:06.889655Z",
     "iopub.status.busy": "2023-06-02T01:55:06.889344Z",
     "iopub.status.idle": "2023-06-02T01:55:06.938405Z",
     "shell.execute_reply": "2023-06-02T01:55:06.937570Z",
     "shell.execute_reply.started": "2023-06-02T01:55:06.889617Z"
    }
   },
   "outputs": [
    {
     "data": {
      "text/plain": [
       "36"
      ]
     },
     "execution_count": 10,
     "metadata": {},
     "output_type": "execute_result"
    }
   ],
   "source": [
    "df.duplicated().sum()"
   ]
  },
  {
   "cell_type": "markdown",
   "metadata": {},
   "source": [
    "There are some duplicated tweets, we will remove them."
   ]
  },
  {
   "cell_type": "code",
   "execution_count": 11,
   "metadata": {
    "execution": {
     "iopub.execute_input": "2023-06-02T01:55:06.940080Z",
     "iopub.status.busy": "2023-06-02T01:55:06.939706Z",
     "iopub.status.idle": "2023-06-02T01:55:06.979559Z",
     "shell.execute_reply": "2023-06-02T01:55:06.978738Z",
     "shell.execute_reply.started": "2023-06-02T01:55:06.940038Z"
    },
    "id": "4u7mn7wkchxj"
   },
   "outputs": [],
   "source": [
    "df = df[~df.duplicated()]"
   ]
  },
  {
   "cell_type": "code",
   "execution_count": 12,
   "metadata": {
    "execution": {
     "iopub.execute_input": "2023-06-02T01:55:06.981405Z",
     "iopub.status.busy": "2023-06-02T01:55:06.981110Z",
     "iopub.status.idle": "2023-06-02T01:55:07.005087Z",
     "shell.execute_reply": "2023-06-02T01:55:07.004340Z",
     "shell.execute_reply.started": "2023-06-02T01:55:06.981362Z"
    },
    "id": "oedUGlQ9crg2",
    "outputId": "2b094807-c074-4174-ee3d-1e81bfdd5b0f"
   },
   "outputs": [
    {
     "name": "stdout",
     "output_type": "stream",
     "text": [
      "<class 'pandas.core.frame.DataFrame'>\n",
      "Int64Index: 47656 entries, 0 to 47691\n",
      "Data columns (total 2 columns):\n",
      " #   Column     Non-Null Count  Dtype \n",
      "---  ------     --------------  ----- \n",
      " 0   text       47656 non-null  object\n",
      " 1   sentiment  47656 non-null  object\n",
      "dtypes: object(2)\n",
      "memory usage: 1.1+ MB\n"
     ]
    }
   ],
   "source": [
    "df.info()"
   ]
  },
  {
   "cell_type": "markdown",
   "metadata": {},
   "source": [
    "### Are the classes balanced?"
   ]
  },
  {
   "cell_type": "code",
   "execution_count": 13,
   "metadata": {
    "execution": {
     "iopub.execute_input": "2023-06-02T01:55:07.009944Z",
     "iopub.status.busy": "2023-06-02T01:55:07.009700Z",
     "iopub.status.idle": "2023-06-02T01:55:07.024715Z",
     "shell.execute_reply": "2023-06-02T01:55:07.023741Z",
     "shell.execute_reply.started": "2023-06-02T01:55:07.009912Z"
    },
    "id": "c82luV2N5QsN",
    "outputId": "5b926ea0-59ec-46e9-97fe-08f72237a419"
   },
   "outputs": [
    {
     "data": {
      "text/plain": [
       "religion               7997\n",
       "age                    7992\n",
       "ethnicity              7959\n",
       "gender                 7948\n",
       "not_cyberbullying      7937\n",
       "other_cyberbullying    7823\n",
       "Name: sentiment, dtype: int64"
      ]
     },
     "execution_count": 13,
     "metadata": {},
     "output_type": "execute_result"
    }
   ],
   "source": [
    "df.sentiment.value_counts()"
   ]
  },
  {
   "cell_type": "markdown",
   "metadata": {},
   "source": [
    "The classes look balanced."
   ]
  },
  {
   "cell_type": "markdown",
   "metadata": {
    "execution": {
     "iopub.execute_input": "2022-01-19T09:34:52.112295Z",
     "iopub.status.busy": "2022-01-19T09:34:52.112005Z",
     "iopub.status.idle": "2022-01-19T09:34:53.14386Z",
     "shell.execute_reply": "2022-01-19T09:34:53.142913Z",
     "shell.execute_reply.started": "2022-01-19T09:34:52.112262Z"
    },
    "id": "DGmYrF4d5QsP"
   },
   "source": [
    "# Tweets text deep cleaning"
   ]
  },
  {
   "cell_type": "markdown",
   "metadata": {},
   "source": [
    "Next, we will define custom functions to clean the texts of the tweets."
   ]
  },
  {
   "cell_type": "code",
   "execution_count": 14,
   "metadata": {
    "execution": {
     "iopub.execute_input": "2023-06-02T01:55:07.027276Z",
     "iopub.status.busy": "2023-06-02T01:55:07.026969Z",
     "iopub.status.idle": "2023-06-02T01:55:07.050047Z",
     "shell.execute_reply": "2023-06-02T01:55:07.049136Z",
     "shell.execute_reply.started": "2023-06-02T01:55:07.027237Z"
    },
    "id": "E5E1UwMc5QsQ"
   },
   "outputs": [],
   "source": [
    "# Clean emojis from text\n",
    "def strip_emoji(text):\n",
    "    return emoji.get_emoji_regexp().sub(\"\", text)\n",
    "\n",
    "# Remove punctuations, stopwords, links, mentions and new line characters\n",
    "def strip_all_entities(text):\n",
    "    text = re.sub(r'\\r|\\n', ' ', text.lower())  # Replace newline and carriage return with space, and convert to lowercase\n",
    "    text = re.sub(r\"(?:\\@|https?\\://)\\S+\", \"\", text)  # Remove links and mentions\n",
    "    text = re.sub(r'[^\\x00-\\x7f]', '', text)  # Remove non-ASCII characters\n",
    "    banned_list = string.punctuation\n",
    "    table = str.maketrans('', '', banned_list)\n",
    "    text = text.translate(table)\n",
    "    text = ' '.join(word for word in text.split() if word not in stop_words)\n",
    "    return text\n",
    "\n",
    "# Clean hashtags at the end of the sentence, and keep those in the middle of the sentence by removing just the # symbol\n",
    "def clean_hashtags(tweet):\n",
    "    # Remove hashtags at the end of the sentence\n",
    "    new_tweet = re.sub(r'(\\s+#[\\w-]+)+\\s*$', '', tweet).strip()\n",
    "    \n",
    "    # Remove the # symbol from hashtags in the middle of the sentence\n",
    "    new_tweet = re.sub(r'#([\\w-]+)', r'\\1', new_tweet).strip()\n",
    "    \n",
    "    return new_tweet\n",
    "\n",
    "# Filter special characters such as & and $ present in some words\n",
    "def filter_chars(text):\n",
    "    return ' '.join('' if ('$' in word) or ('&' in word) else word for word in text.split())\n",
    "\n",
    "# Remove multiple spaces\n",
    "def remove_mult_spaces(text):\n",
    "    return re.sub(r\"\\s\\s+\", \" \", text)\n",
    "\n",
    "# Function to check if the text is in English, and return an empty string if it's not\n",
    "def filter_non_english(text):\n",
    "    try:\n",
    "        lang = detect(text)\n",
    "    except LangDetectException:\n",
    "        lang = \"unknown\"\n",
    "    return text if lang == \"en\" else \"\"\n",
    "\n",
    "# Expand contractions\n",
    "def expand_contractions(text):\n",
    "    return contractions.fix(text)\n",
    "\n",
    "# Remove numbers\n",
    "def remove_numbers(text):\n",
    "    return re.sub(r'\\d+', '', text)\n",
    "\n",
    "# Lemmatize words\n",
    "def lemmatize(text):\n",
    "    words = word_tokenize(text)\n",
    "    lemmatized_words = [lemmatizer.lemmatize(word) for word in words]\n",
    "    return ' '.join(lemmatized_words)\n",
    "\n",
    "# Remove short words\n",
    "def remove_short_words(text, min_len=2):\n",
    "    words = text.split()\n",
    "    long_words = [word for word in words if len(word) >= min_len]\n",
    "    return ' '.join(long_words)\n",
    "\n",
    "# Replace elongated words with their base form\n",
    "def replace_elongated_words(text):\n",
    "    regex_pattern = r'\\b(\\w+)((\\w)\\3{2,})(\\w*)\\b'\n",
    "    return re.sub(regex_pattern, r'\\1\\3\\4', text)\n",
    "\n",
    "# Remove repeated punctuation\n",
    "def remove_repeated_punctuation(text):\n",
    "    return re.sub(r'[\\?\\.\\!]+(?=[\\?\\.\\!])', '', text)\n",
    "\n",
    "# Remove extra whitespace\n",
    "def remove_extra_whitespace(text):\n",
    "    return ' '.join(text.split())\n",
    "\n",
    "def remove_url_shorteners(text):\n",
    "    return re.sub(r'(?:http[s]?://)?(?:www\\.)?(?:bit\\.ly|goo\\.gl|t\\.co|tinyurl\\.com|tr\\.im|is\\.gd|cli\\.gs|u\\.nu|url\\.ie|tiny\\.cc|alturl\\.com|ow\\.ly|bit\\.do|adoro\\.to)\\S+', '', text)\n",
    "\n",
    "# Remove spaces at the beginning and end of the tweet\n",
    "def remove_spaces_tweets(tweet):\n",
    "    return tweet.strip()\n",
    "\n",
    "# Remove short tweets\n",
    "def remove_short_tweets(tweet, min_words=3):\n",
    "    words = tweet.split()\n",
    "    return tweet if len(words) >= min_words else \"\"\n",
    "\n",
    "# Function to call all the cleaning functions in the correct order\n",
    "def clean_tweet(tweet):\n",
    "    tweet = strip_emoji(tweet)\n",
    "    tweet = expand_contractions(tweet)\n",
    "    tweet = filter_non_english(tweet)\n",
    "    tweet = strip_all_entities(tweet)\n",
    "    tweet = clean_hashtags(tweet)\n",
    "    tweet = filter_chars(tweet)\n",
    "    tweet = remove_mult_spaces(tweet)\n",
    "    tweet = remove_numbers(tweet)\n",
    "    tweet = lemmatize(tweet)\n",
    "    tweet = remove_short_words(tweet)\n",
    "    tweet = replace_elongated_words(tweet)\n",
    "    tweet = remove_repeated_punctuation(tweet)\n",
    "    tweet = remove_extra_whitespace(tweet)\n",
    "    tweet = remove_url_shorteners(tweet)\n",
    "    tweet = remove_spaces_tweets(tweet)\n",
    "    tweet = remove_short_tweets(tweet)\n",
    "    tweet = ' '.join(tweet.split())  # Remove multiple spaces between words\n",
    "    return tweet"
   ]
  },
  {
   "cell_type": "code",
   "execution_count": 15,
   "metadata": {
    "execution": {
     "iopub.execute_input": "2023-06-02T01:55:07.051999Z",
     "iopub.status.busy": "2023-06-02T01:55:07.051363Z",
     "iopub.status.idle": "2023-06-02T02:03:23.943346Z",
     "shell.execute_reply": "2023-06-02T02:03:23.942525Z",
     "shell.execute_reply.started": "2023-06-02T01:55:07.051957Z"
    }
   },
   "outputs": [],
   "source": [
    "df['text_clean'] = [clean_tweet(tweet) for tweet in df['text']]"
   ]
  },
  {
   "cell_type": "code",
   "execution_count": 16,
   "metadata": {
    "execution": {
     "iopub.execute_input": "2023-06-02T02:03:23.945239Z",
     "iopub.status.busy": "2023-06-02T02:03:23.944862Z",
     "iopub.status.idle": "2023-06-02T02:03:23.956483Z",
     "shell.execute_reply": "2023-06-02T02:03:23.955607Z",
     "shell.execute_reply.started": "2023-06-02T02:03:23.945183Z"
    }
   },
   "outputs": [
    {
     "data": {
      "text/html": [
       "<div>\n",
       "<style scoped>\n",
       "    .dataframe tbody tr th:only-of-type {\n",
       "        vertical-align: middle;\n",
       "    }\n",
       "\n",
       "    .dataframe tbody tr th {\n",
       "        vertical-align: top;\n",
       "    }\n",
       "\n",
       "    .dataframe thead th {\n",
       "        text-align: right;\n",
       "    }\n",
       "</style>\n",
       "<table border=\"1\" class=\"dataframe\">\n",
       "  <thead>\n",
       "    <tr style=\"text-align: right;\">\n",
       "      <th></th>\n",
       "      <th>text</th>\n",
       "      <th>sentiment</th>\n",
       "      <th>text_clean</th>\n",
       "    </tr>\n",
       "  </thead>\n",
       "  <tbody>\n",
       "    <tr>\n",
       "      <th>0</th>\n",
       "      <td>In other words #katandandre, your food was cra...</td>\n",
       "      <td>not_cyberbullying</td>\n",
       "      <td>word katandandre food crapilicious mkr</td>\n",
       "    </tr>\n",
       "    <tr>\n",
       "      <th>1</th>\n",
       "      <td>Why is #aussietv so white? #MKR #theblock #ImA...</td>\n",
       "      <td>not_cyberbullying</td>\n",
       "      <td>aussietv white mkr theblock imacelebrityau tod...</td>\n",
       "    </tr>\n",
       "    <tr>\n",
       "      <th>2</th>\n",
       "      <td>@XochitlSuckkks a classy whore? Or more red ve...</td>\n",
       "      <td>not_cyberbullying</td>\n",
       "      <td>classy whore red velvet cupcake</td>\n",
       "    </tr>\n",
       "    <tr>\n",
       "      <th>3</th>\n",
       "      <td>@Jason_Gio meh. :P  thanks for the heads up, b...</td>\n",
       "      <td>not_cyberbullying</td>\n",
       "      <td>meh thanks head concerned another angry dude t...</td>\n",
       "    </tr>\n",
       "    <tr>\n",
       "      <th>4</th>\n",
       "      <td>@RudhoeEnglish This is an ISIS account pretend...</td>\n",
       "      <td>not_cyberbullying</td>\n",
       "      <td>isi account pretending kurdish account like is...</td>\n",
       "    </tr>\n",
       "  </tbody>\n",
       "</table>\n",
       "</div>"
      ],
      "text/plain": [
       "                                                text          sentiment  \\\n",
       "0  In other words #katandandre, your food was cra...  not_cyberbullying   \n",
       "1  Why is #aussietv so white? #MKR #theblock #ImA...  not_cyberbullying   \n",
       "2  @XochitlSuckkks a classy whore? Or more red ve...  not_cyberbullying   \n",
       "3  @Jason_Gio meh. :P  thanks for the heads up, b...  not_cyberbullying   \n",
       "4  @RudhoeEnglish This is an ISIS account pretend...  not_cyberbullying   \n",
       "\n",
       "                                          text_clean  \n",
       "0             word katandandre food crapilicious mkr  \n",
       "1  aussietv white mkr theblock imacelebrityau tod...  \n",
       "2                    classy whore red velvet cupcake  \n",
       "3  meh thanks head concerned another angry dude t...  \n",
       "4  isi account pretending kurdish account like is...  "
      ]
     },
     "execution_count": 16,
     "metadata": {},
     "output_type": "execute_result"
    }
   ],
   "source": [
    "df.head()"
   ]
  },
  {
   "cell_type": "markdown",
   "metadata": {},
   "source": [
    "### Are there duplicate tweets after the cleaning?"
   ]
  },
  {
   "cell_type": "code",
   "execution_count": 17,
   "metadata": {
    "execution": {
     "iopub.execute_input": "2023-06-02T02:03:23.958348Z",
     "iopub.status.busy": "2023-06-02T02:03:23.958070Z",
     "iopub.status.idle": "2023-06-02T02:03:23.976094Z",
     "shell.execute_reply": "2023-06-02T02:03:23.975338Z",
     "shell.execute_reply.started": "2023-06-02T02:03:23.958311Z"
    }
   },
   "outputs": [
    {
     "name": "stdout",
     "output_type": "stream",
     "text": [
      "There are around 6254 duplicated tweets, we will remove them.\n"
     ]
    }
   ],
   "source": [
    "print(f'There are around {int(df[\"text_clean\"].duplicated().sum())} duplicated tweets, we will remove them.')"
   ]
  },
  {
   "cell_type": "code",
   "execution_count": 18,
   "metadata": {
    "execution": {
     "iopub.execute_input": "2023-06-02T02:03:23.978088Z",
     "iopub.status.busy": "2023-06-02T02:03:23.977743Z",
     "iopub.status.idle": "2023-06-02T02:03:24.007089Z",
     "shell.execute_reply": "2023-06-02T02:03:24.006308Z",
     "shell.execute_reply.started": "2023-06-02T02:03:23.978047Z"
    }
   },
   "outputs": [],
   "source": [
    "df.drop_duplicates(\"text_clean\", inplace=True)"
   ]
  },
  {
   "cell_type": "markdown",
   "metadata": {},
   "source": [
    "We removed the duplicated cleaned tweets. How is the class balance after the cleaning?"
   ]
  },
  {
   "cell_type": "code",
   "execution_count": 19,
   "metadata": {
    "execution": {
     "iopub.execute_input": "2023-06-02T02:03:24.008795Z",
     "iopub.status.busy": "2023-06-02T02:03:24.008492Z",
     "iopub.status.idle": "2023-06-02T02:03:24.020196Z",
     "shell.execute_reply": "2023-06-02T02:03:24.019209Z",
     "shell.execute_reply.started": "2023-06-02T02:03:24.008751Z"
    }
   },
   "outputs": [
    {
     "data": {
      "text/plain": [
       "religion               7916\n",
       "age                    7813\n",
       "ethnicity              7405\n",
       "gender                 7276\n",
       "not_cyberbullying      6074\n",
       "other_cyberbullying    4918\n",
       "Name: sentiment, dtype: int64"
      ]
     },
     "execution_count": 19,
     "metadata": {},
     "output_type": "execute_result"
    }
   ],
   "source": [
    "df.sentiment.value_counts()"
   ]
  },
  {
   "cell_type": "markdown",
   "metadata": {},
   "source": [
    "We can see that lots of tweets of the class \"other_cyberbullying\" have been removed. Since the class is very unbalanced compared to the other classes and looks too \"generic\", we decide to remove the tweets labeled belonging to this class.<br>\n",
    "EDIT: by performing some tests, the f1 score for predicting the \"other_cyberbullying\" resulted to be around 60%, a value far lower compared to the othter f1 scores (around 95% using LSTM model). This supports the decision of removing this generic class."
   ]
  },
  {
   "cell_type": "code",
   "execution_count": 20,
   "metadata": {
    "execution": {
     "iopub.execute_input": "2023-06-02T02:03:24.022039Z",
     "iopub.status.busy": "2023-06-02T02:03:24.021691Z",
     "iopub.status.idle": "2023-06-02T02:03:24.037187Z",
     "shell.execute_reply": "2023-06-02T02:03:24.036422Z",
     "shell.execute_reply.started": "2023-06-02T02:03:24.021997Z"
    }
   },
   "outputs": [],
   "source": [
    "df = df[df[\"sentiment\"]!=\"other_cyberbullying\"]"
   ]
  },
  {
   "cell_type": "markdown",
   "metadata": {},
   "source": [
    "Then we also define a list of the classes names, which will be useful for the future plots."
   ]
  },
  {
   "cell_type": "code",
   "execution_count": 21,
   "metadata": {
    "execution": {
     "iopub.execute_input": "2023-06-02T02:03:24.039132Z",
     "iopub.status.busy": "2023-06-02T02:03:24.038366Z",
     "iopub.status.idle": "2023-06-02T02:03:24.044996Z",
     "shell.execute_reply": "2023-06-02T02:03:24.044134Z",
     "shell.execute_reply.started": "2023-06-02T02:03:24.039092Z"
    }
   },
   "outputs": [],
   "source": [
    "sentiments = [\"religion\",\"age\",\"ethnicity\",\"gender\",\"not bullying\"]"
   ]
  },
  {
   "cell_type": "markdown",
   "metadata": {},
   "source": [
    "# Tweets length analysis"
   ]
  },
  {
   "cell_type": "markdown",
   "metadata": {},
   "source": [
    "Now we will define a new dataframe column containing the length of the cleaned tweets in terms of number of words."
   ]
  },
  {
   "cell_type": "code",
   "execution_count": 22,
   "metadata": {
    "execution": {
     "iopub.execute_input": "2023-06-02T02:03:24.046896Z",
     "iopub.status.busy": "2023-06-02T02:03:24.046599Z",
     "iopub.status.idle": "2023-06-02T02:03:24.106733Z",
     "shell.execute_reply": "2023-06-02T02:03:24.105946Z",
     "shell.execute_reply.started": "2023-06-02T02:03:24.046857Z"
    },
    "id": "vQsHVXTA5QsV"
   },
   "outputs": [],
   "source": [
    "df['text_len'] = [len(text.split()) for text in df.text_clean]"
   ]
  },
  {
   "cell_type": "code",
   "execution_count": 23,
   "metadata": {
    "_kg_hide-input": true,
    "execution": {
     "iopub.execute_input": "2023-06-02T02:03:24.109947Z",
     "iopub.status.busy": "2023-06-02T02:03:24.109739Z",
     "iopub.status.idle": "2023-06-02T02:03:24.451036Z",
     "shell.execute_reply": "2023-06-02T02:03:24.450262Z",
     "shell.execute_reply.started": "2023-06-02T02:03:24.109919Z"
    },
    "id": "HZcu8uGh5QsW",
    "outputId": "a43cd050-b496-4e23-9512-85ba09b18686"
   },
   "outputs": [
    {
     "data": {
      "image/png": "[encoded data removed]",
      "text/plain": [
       "<Figure size 504x360 with 1 Axes>"
      ]
     },
     "metadata": {},
     "output_type": "display_data"
    }
   ],
   "source": [
    "plt.figure(figsize=(7,5))\n",
    "ax = sns.countplot(x='text_len', data=df[df['text_len']<10], palette='mako')\n",
    "plt.title('Count of tweets with less than 10 words', fontsize=20)\n",
    "plt.yticks([])\n",
    "ax.bar_label(ax.containers[0])\n",
    "plt.ylabel('count')\n",
    "plt.xlabel('')\n",
    "plt.show()"
   ]
  },
  {
   "cell_type": "markdown",
   "metadata": {
    "id": "fmN9566u5QsX"
   },
   "source": [
    "### What about long tweets?"
   ]
  },
  {
   "cell_type": "code",
   "execution_count": 24,
   "metadata": {
    "execution": {
     "iopub.execute_input": "2023-06-02T02:03:24.453325Z",
     "iopub.status.busy": "2023-06-02T02:03:24.452453Z",
     "iopub.status.idle": "2023-06-02T02:03:24.486382Z",
     "shell.execute_reply": "2023-06-02T02:03:24.485591Z",
     "shell.execute_reply.started": "2023-06-02T02:03:24.453279Z"
    },
    "id": "2Dv2aZRv5QsY",
    "outputId": "e856bcba-79ac-46ce-c217-2a1eb0e874e2"
   },
   "outputs": [
    {
     "data": {
      "text/html": [
       "<div>\n",
       "<style scoped>\n",
       "    .dataframe tbody tr th:only-of-type {\n",
       "        vertical-align: middle;\n",
       "    }\n",
       "\n",
       "    .dataframe tbody tr th {\n",
       "        vertical-align: top;\n",
       "    }\n",
       "\n",
       "    .dataframe thead th {\n",
       "        text-align: right;\n",
       "    }\n",
       "</style>\n",
       "<table border=\"1\" class=\"dataframe\">\n",
       "  <thead>\n",
       "    <tr style=\"text-align: right;\">\n",
       "      <th></th>\n",
       "      <th>text</th>\n",
       "      <th>sentiment</th>\n",
       "      <th>text_clean</th>\n",
       "      <th>text_len</th>\n",
       "    </tr>\n",
       "  </thead>\n",
       "  <tbody>\n",
       "    <tr>\n",
       "      <th>44035</th>\n",
       "      <td>You so black and white trying to live like a n...</td>\n",
       "      <td>ethnicity</td>\n",
       "      <td>black white trying live like nigger pahahahaha...</td>\n",
       "      <td>173</td>\n",
       "    </tr>\n",
       "    <tr>\n",
       "      <th>45165</th>\n",
       "      <td>@hermdiggz: “@tayyoung_: FUCK OBAMA, dumb ass ...</td>\n",
       "      <td>ethnicity</td>\n",
       "      <td>fuck obama dumb as nigger bitch ltthis whore s...</td>\n",
       "      <td>151</td>\n",
       "    </tr>\n",
       "    <tr>\n",
       "      <th>1317</th>\n",
       "      <td>@EurekAlertAAAS: Researchers push to import to...</td>\n",
       "      <td>not_cyberbullying</td>\n",
       "      <td>researcher push import top antibullying progra...</td>\n",
       "      <td>138</td>\n",
       "    </tr>\n",
       "    <tr>\n",
       "      <th>33724</th>\n",
       "      <td>... I don't feel guilty for killing him, I jus...</td>\n",
       "      <td>age</td>\n",
       "      <td>feel guilty killing feel guilty enjoyed tormen...</td>\n",
       "      <td>136</td>\n",
       "    </tr>\n",
       "    <tr>\n",
       "      <th>10922</th>\n",
       "      <td>don't make rape jokes!!! don't make gay jokes!...</td>\n",
       "      <td>gender</td>\n",
       "      <td>make rape joke make gay joke oh fat joke okay ...</td>\n",
       "      <td>121</td>\n",
       "    </tr>\n",
       "    <tr>\n",
       "      <th>...</th>\n",
       "      <td>...</td>\n",
       "      <td>...</td>\n",
       "      <td>...</td>\n",
       "      <td>...</td>\n",
       "    </tr>\n",
       "    <tr>\n",
       "      <th>573</th>\n",
       "      <td>@Popehat i can never tell anymore.</td>\n",
       "      <td>not_cyberbullying</td>\n",
       "      <td>never tell anymore</td>\n",
       "      <td>3</td>\n",
       "    </tr>\n",
       "    <tr>\n",
       "      <th>5232</th>\n",
       "      <td>@Mesha_nojas: @_Vontethekidd &amp;#128079;&amp;#128079...</td>\n",
       "      <td>not_cyberbullying</td>\n",
       "      <td>got hick lol</td>\n",
       "      <td>3</td>\n",
       "    </tr>\n",
       "    <tr>\n",
       "      <th>7153</th>\n",
       "      <td>That's unfair and fucked up #mkr</td>\n",
       "      <td>not_cyberbullying</td>\n",
       "      <td>unfair fucked mkr</td>\n",
       "      <td>3</td>\n",
       "    </tr>\n",
       "    <tr>\n",
       "      <th>630</th>\n",
       "      <td>People from my school are up here. Ew</td>\n",
       "      <td>not_cyberbullying</td>\n",
       "      <td>people school ew</td>\n",
       "      <td>3</td>\n",
       "    </tr>\n",
       "    <tr>\n",
       "      <th>6</th>\n",
       "      <td>Itu sekolah ya bukan tempat bully! Ga jauh kay...</td>\n",
       "      <td>not_cyberbullying</td>\n",
       "      <td></td>\n",
       "      <td>0</td>\n",
       "    </tr>\n",
       "  </tbody>\n",
       "</table>\n",
       "<p>36484 rows × 4 columns</p>\n",
       "</div>"
      ],
      "text/plain": [
       "                                                    text          sentiment  \\\n",
       "44035  You so black and white trying to live like a n...          ethnicity   \n",
       "45165  @hermdiggz: “@tayyoung_: FUCK OBAMA, dumb ass ...          ethnicity   \n",
       "1317   @EurekAlertAAAS: Researchers push to import to...  not_cyberbullying   \n",
       "33724  ... I don't feel guilty for killing him, I jus...                age   \n",
       "10922  don't make rape jokes!!! don't make gay jokes!...             gender   \n",
       "...                                                  ...                ...   \n",
       "573                   @Popehat i can never tell anymore.  not_cyberbullying   \n",
       "5232   @Mesha_nojas: @_Vontethekidd &#128079;&#128079...  not_cyberbullying   \n",
       "7153                    That's unfair and fucked up #mkr  not_cyberbullying   \n",
       "630                People from my school are up here. Ew  not_cyberbullying   \n",
       "6      Itu sekolah ya bukan tempat bully! Ga jauh kay...  not_cyberbullying   \n",
       "\n",
       "                                              text_clean  text_len  \n",
       "44035  black white trying live like nigger pahahahaha...       173  \n",
       "45165  fuck obama dumb as nigger bitch ltthis whore s...       151  \n",
       "1317   researcher push import top antibullying progra...       138  \n",
       "33724  feel guilty killing feel guilty enjoyed tormen...       136  \n",
       "10922  make rape joke make gay joke oh fat joke okay ...       121  \n",
       "...                                                  ...       ...  \n",
       "573                                   never tell anymore         3  \n",
       "5232                                        got hick lol         3  \n",
       "7153                                   unfair fucked mkr         3  \n",
       "630                                     people school ew         3  \n",
       "6                                                                0  \n",
       "\n",
       "[36484 rows x 4 columns]"
      ]
     },
     "execution_count": 24,
     "metadata": {},
     "output_type": "execute_result"
    }
   ],
   "source": [
    "df.sort_values(by=['text_len'], ascending=False)"
   ]
  },
  {
   "cell_type": "code",
   "execution_count": 25,
   "metadata": {
    "_kg_hide-input": true,
    "execution": {
     "iopub.execute_input": "2023-06-02T02:03:24.487823Z",
     "iopub.status.busy": "2023-06-02T02:03:24.487533Z",
     "iopub.status.idle": "2023-06-02T02:03:25.449266Z",
     "shell.execute_reply": "2023-06-02T02:03:25.448515Z",
     "shell.execute_reply.started": "2023-06-02T02:03:24.487779Z"
    },
    "id": "Zt9YFv935QsY",
    "outputId": "1aa5c793-4f13-4c37-e095-385ba9b93510"
   },
   "outputs": [
    {
     "data": {
      "image/png": "[encoded data removed]",
      "text/plain": [
       "<Figure size 1152x360 with 1 Axes>"
      ]
     },
     "metadata": {},
     "output_type": "display_data"
    }
   ],
   "source": [
    "plt.figure(figsize=(16,5))\n",
    "ax = sns.countplot(x='text_len', data=df[(df['text_len']<=1000) & (df['text_len']>10)], palette='Blues_r')\n",
    "plt.title('Count of tweets with high number of words', fontsize=25)\n",
    "plt.yticks([])\n",
    "ax.bar_label(ax.containers[0])\n",
    "plt.ylabel('count')\n",
    "plt.xlabel('')\n",
    "plt.show()"
   ]
  },
  {
   "cell_type": "markdown",
   "metadata": {
    "id": "JzY9dDnF5QsY"
   },
   "source": [
    "We also will remove tweets that are too long (with more than 100 words)."
   ]
  },
  {
   "cell_type": "code",
   "execution_count": 26,
   "metadata": {
    "execution": {
     "iopub.execute_input": "2023-06-02T02:03:25.451257Z",
     "iopub.status.busy": "2023-06-02T02:03:25.450767Z",
     "iopub.status.idle": "2023-06-02T02:03:25.462174Z",
     "shell.execute_reply": "2023-06-02T02:03:25.461429Z",
     "shell.execute_reply.started": "2023-06-02T02:03:25.451215Z"
    },
    "id": "teb7a02F5QsY"
   },
   "outputs": [],
   "source": [
    "df = df[df['text_len'] < df['text_len'].quantile(0.995)]"
   ]
  },
  {
   "cell_type": "markdown",
   "metadata": {},
   "source": [
    "Then we also get the length of the longest tweet since it will be useful later."
   ]
  },
  {
   "cell_type": "code",
   "execution_count": 27,
   "metadata": {
    "execution": {
     "iopub.execute_input": "2023-06-02T02:03:25.464173Z",
     "iopub.status.busy": "2023-06-02T02:03:25.463808Z",
     "iopub.status.idle": "2023-06-02T02:03:25.471732Z",
     "shell.execute_reply": "2023-06-02T02:03:25.470728Z",
     "shell.execute_reply.started": "2023-06-02T02:03:25.464134Z"
    },
    "id": "HyQak-0QI9Mk",
    "outputId": "3b02dbe1-c218-482b-9cac-e492265cda3c"
   },
   "outputs": [
    {
     "data": {
      "text/plain": [
       "31"
      ]
     },
     "execution_count": 27,
     "metadata": {},
     "output_type": "execute_result"
    }
   ],
   "source": [
    "max_len = np.max(df['text_len'])\n",
    "max_len "
   ]
  },
  {
   "cell_type": "code",
   "execution_count": 28,
   "metadata": {
    "execution": {
     "iopub.execute_input": "2023-06-02T02:03:25.473594Z",
     "iopub.status.busy": "2023-06-02T02:03:25.473243Z",
     "iopub.status.idle": "2023-06-02T02:03:25.493626Z",
     "shell.execute_reply": "2023-06-02T02:03:25.492834Z",
     "shell.execute_reply.started": "2023-06-02T02:03:25.473539Z"
    },
    "id": "NZD-8GJd5Qsa",
    "outputId": "ded71a92-9493-4b03-f38e-3313f05a43e8"
   },
   "outputs": [
    {
     "data": {
      "text/html": [
       "<div>\n",
       "<style scoped>\n",
       "    .dataframe tbody tr th:only-of-type {\n",
       "        vertical-align: middle;\n",
       "    }\n",
       "\n",
       "    .dataframe tbody tr th {\n",
       "        vertical-align: top;\n",
       "    }\n",
       "\n",
       "    .dataframe thead th {\n",
       "        text-align: right;\n",
       "    }\n",
       "</style>\n",
       "<table border=\"1\" class=\"dataframe\">\n",
       "  <thead>\n",
       "    <tr style=\"text-align: right;\">\n",
       "      <th></th>\n",
       "      <th>text</th>\n",
       "      <th>sentiment</th>\n",
       "      <th>text_clean</th>\n",
       "      <th>text_len</th>\n",
       "    </tr>\n",
       "  </thead>\n",
       "  <tbody>\n",
       "    <tr>\n",
       "      <th>42342</th>\n",
       "      <td>U really gonna act like a lot of people didnt ...</td>\n",
       "      <td>ethnicity</td>\n",
       "      <td>really going act like lot people dumb shitman ...</td>\n",
       "      <td>31</td>\n",
       "    </tr>\n",
       "    <tr>\n",
       "      <th>47445</th>\n",
       "      <td>White shall henceforth be called cracker, honk...</td>\n",
       "      <td>ethnicity</td>\n",
       "      <td>white shall henceforth called cracker honky gr...</td>\n",
       "      <td>31</td>\n",
       "    </tr>\n",
       "    <tr>\n",
       "      <th>18840</th>\n",
       "      <td>At #UNGA Imran Khan explain below only. Jihad,...</td>\n",
       "      <td>religion</td>\n",
       "      <td>unga imran khan explain jihad war nuclear war ...</td>\n",
       "      <td>31</td>\n",
       "    </tr>\n",
       "    <tr>\n",
       "      <th>36608</th>\n",
       "      <td>Getting paid on both sides. Bill G literally d...</td>\n",
       "      <td>age</td>\n",
       "      <td>getting paid side bill literally dismantled af...</td>\n",
       "      <td>31</td>\n",
       "    </tr>\n",
       "    <tr>\n",
       "      <th>34994</th>\n",
       "      <td>Over the next nine years, Parker grew to be ex...</td>\n",
       "      <td>age</td>\n",
       "      <td>next nine year parker grew extremely bright sc...</td>\n",
       "      <td>31</td>\n",
       "    </tr>\n",
       "    <tr>\n",
       "      <th>...</th>\n",
       "      <td>...</td>\n",
       "      <td>...</td>\n",
       "      <td>...</td>\n",
       "      <td>...</td>\n",
       "    </tr>\n",
       "    <tr>\n",
       "      <th>36133</th>\n",
       "      <td>Bully https://www.twitch.tv/jeffgamer55ryer @T...</td>\n",
       "      <td>age</td>\n",
       "      <td>bully old school</td>\n",
       "      <td>3</td>\n",
       "    </tr>\n",
       "    <tr>\n",
       "      <th>5903</th>\n",
       "      <td>@apache6645 thursday n friday confirmed</td>\n",
       "      <td>not_cyberbullying</td>\n",
       "      <td>thursday friday confirmed</td>\n",
       "      <td>3</td>\n",
       "    </tr>\n",
       "    <tr>\n",
       "      <th>5891</th>\n",
       "      <td>Starting To Get An Headache.</td>\n",
       "      <td>not_cyberbullying</td>\n",
       "      <td>starting get headache</td>\n",
       "      <td>3</td>\n",
       "    </tr>\n",
       "    <tr>\n",
       "      <th>1417</th>\n",
       "      <td>Gotta love this movie.......</td>\n",
       "      <td>not_cyberbullying</td>\n",
       "      <td>got love movie</td>\n",
       "      <td>3</td>\n",
       "    </tr>\n",
       "    <tr>\n",
       "      <th>6</th>\n",
       "      <td>Itu sekolah ya bukan tempat bully! Ga jauh kay...</td>\n",
       "      <td>not_cyberbullying</td>\n",
       "      <td></td>\n",
       "      <td>0</td>\n",
       "    </tr>\n",
       "  </tbody>\n",
       "</table>\n",
       "<p>36241 rows × 4 columns</p>\n",
       "</div>"
      ],
      "text/plain": [
       "                                                    text          sentiment  \\\n",
       "42342  U really gonna act like a lot of people didnt ...          ethnicity   \n",
       "47445  White shall henceforth be called cracker, honk...          ethnicity   \n",
       "18840  At #UNGA Imran Khan explain below only. Jihad,...           religion   \n",
       "36608  Getting paid on both sides. Bill G literally d...                age   \n",
       "34994  Over the next nine years, Parker grew to be ex...                age   \n",
       "...                                                  ...                ...   \n",
       "36133  Bully https://www.twitch.tv/jeffgamer55ryer @T...                age   \n",
       "5903             @apache6645 thursday n friday confirmed  not_cyberbullying   \n",
       "5891                        Starting To Get An Headache.  not_cyberbullying   \n",
       "1417                        Gotta love this movie.......  not_cyberbullying   \n",
       "6      Itu sekolah ya bukan tempat bully! Ga jauh kay...  not_cyberbullying   \n",
       "\n",
       "                                              text_clean  text_len  \n",
       "42342  really going act like lot people dumb shitman ...        31  \n",
       "47445  white shall henceforth called cracker honky gr...        31  \n",
       "18840  unga imran khan explain jihad war nuclear war ...        31  \n",
       "36608  getting paid side bill literally dismantled af...        31  \n",
       "34994  next nine year parker grew extremely bright sc...        31  \n",
       "...                                                  ...       ...  \n",
       "36133                                   bully old school         3  \n",
       "5903                           thursday friday confirmed         3  \n",
       "5891                               starting get headache         3  \n",
       "1417                                      got love movie         3  \n",
       "6                                                                0  \n",
       "\n",
       "[36241 rows x 4 columns]"
      ]
     },
     "execution_count": 28,
     "metadata": {},
     "output_type": "execute_result"
    }
   ],
   "source": [
    "df.sort_values(by=[\"text_len\"], ascending=False)"
   ]
  },
  {
   "cell_type": "markdown",
   "metadata": {},
   "source": [
    "## Sentiment column encoding"
   ]
  },
  {
   "cell_type": "markdown",
   "metadata": {},
   "source": [
    "The target column will be encoded by ordinal encoding"
   ]
  },
  {
   "cell_type": "code",
   "execution_count": 29,
   "metadata": {
    "execution": {
     "iopub.execute_input": "2023-06-02T02:03:25.495386Z",
     "iopub.status.busy": "2023-06-02T02:03:25.495104Z",
     "iopub.status.idle": "2023-06-02T02:03:25.526715Z",
     "shell.execute_reply": "2023-06-02T02:03:25.525925Z",
     "shell.execute_reply.started": "2023-06-02T02:03:25.495347Z"
    },
    "id": "NIS_nyXBG416"
   },
   "outputs": [],
   "source": [
    "df['sentiment'] = df['sentiment'].replace({'religion':0,'age':1,'ethnicity':2,'gender':3,'not_cyberbullying':4})"
   ]
  },
  {
   "cell_type": "markdown",
   "metadata": {
    "id": "ELMGaiE-F7yn"
   },
   "source": [
    "## Train - Test split"
   ]
  },
  {
   "cell_type": "markdown",
   "metadata": {
    "id": "jrLwRbummpEq"
   },
   "source": [
    "Now we need to split the dataset into a train and test sets."
   ]
  },
  {
   "cell_type": "code",
   "execution_count": 30,
   "metadata": {
    "execution": {
     "iopub.execute_input": "2023-06-02T02:03:25.528482Z",
     "iopub.status.busy": "2023-06-02T02:03:25.528179Z",
     "iopub.status.idle": "2023-06-02T02:03:25.532944Z",
     "shell.execute_reply": "2023-06-02T02:03:25.532221Z",
     "shell.execute_reply.started": "2023-06-02T02:03:25.528442Z"
    },
    "id": "BF01CgBtBONZ"
   },
   "outputs": [],
   "source": [
    "X = df['text_clean']\n",
    "y = df['sentiment']"
   ]
  },
  {
   "cell_type": "code",
   "execution_count": 31,
   "metadata": {
    "execution": {
     "iopub.execute_input": "2023-06-02T02:03:25.534808Z",
     "iopub.status.busy": "2023-06-02T02:03:25.534082Z",
     "iopub.status.idle": "2023-06-02T02:03:25.567159Z",
     "shell.execute_reply": "2023-06-02T02:03:25.566498Z",
     "shell.execute_reply.started": "2023-06-02T02:03:25.534766Z"
    },
    "id": "fvQexohPGAZf"
   },
   "outputs": [],
   "source": [
    "X_train, X_test, y_train, y_test = train_test_split(X, y, test_size=0.2, stratify=y, random_state=seed_value)"
   ]
  },
  {
   "cell_type": "markdown",
   "metadata": {
    "id": "A0d0lSX0GbNS"
   },
   "source": [
    "## Train - Validation split"
   ]
  },
  {
   "cell_type": "markdown",
   "metadata": {
    "id": "0OsrkfnCmtk0"
   },
   "source": [
    "Moreover, we will further split the training set to extract a validation set, which will be used to monior the accuracy and loss to avoid overfitting during the model training."
   ]
  },
  {
   "cell_type": "code",
   "execution_count": 32,
   "metadata": {
    "execution": {
     "iopub.execute_input": "2023-06-02T02:03:25.568755Z",
     "iopub.status.busy": "2023-06-02T02:03:25.568474Z",
     "iopub.status.idle": "2023-06-02T02:03:25.594169Z",
     "shell.execute_reply": "2023-06-02T02:03:25.593523Z",
     "shell.execute_reply.started": "2023-06-02T02:03:25.568718Z"
    },
    "id": "1KyTh6H5GbR4"
   },
   "outputs": [],
   "source": [
    "X_train, X_valid, y_train, y_valid = train_test_split(X_train, y_train, test_size=0.2, stratify=y_train, random_state=seed_value)"
   ]
  },
  {
   "cell_type": "code",
   "execution_count": 33,
   "metadata": {
    "execution": {
     "iopub.execute_input": "2023-06-02T02:03:25.595803Z",
     "iopub.status.busy": "2023-06-02T02:03:25.595524Z",
     "iopub.status.idle": "2023-06-02T02:03:25.604632Z",
     "shell.execute_reply": "2023-06-02T02:03:25.603918Z",
     "shell.execute_reply.started": "2023-06-02T02:03:25.595767Z"
    },
    "id": "N-mC3qyuBONc",
    "outputId": "f2951106-29bf-4611-e420-84b7d19c4fc9"
   },
   "outputs": [
    {
     "data": {
      "text/plain": [
       "array([[   0, 5015],\n",
       "       [   1, 4965],\n",
       "       [   2, 4701],\n",
       "       [   3, 4626],\n",
       "       [   4, 3886]])"
      ]
     },
     "execution_count": 33,
     "metadata": {},
     "output_type": "execute_result"
    }
   ],
   "source": [
    "(unique, counts) = np.unique(y_train, return_counts=True)\n",
    "np.asarray((unique, counts)).T"
   ]
  },
  {
   "cell_type": "markdown",
   "metadata": {
    "id": "45AGAxHSnCXW"
   },
   "source": [
    "The classes are unbalanced, so it could be a good idea to oversample the training set such that all classes have the same count as the most populated one."
   ]
  },
  {
   "cell_type": "markdown",
   "metadata": {
    "id": "Geqa3e3zGUNL"
   },
   "source": [
    "# Oversampling of training set"
   ]
  },
  {
   "cell_type": "code",
   "execution_count": 34,
   "metadata": {
    "execution": {
     "iopub.execute_input": "2023-06-02T02:03:25.606268Z",
     "iopub.status.busy": "2023-06-02T02:03:25.605813Z",
     "iopub.status.idle": "2023-06-02T02:03:25.659048Z",
     "shell.execute_reply": "2023-06-02T02:03:25.658307Z",
     "shell.execute_reply.started": "2023-06-02T02:03:25.606225Z"
    },
    "id": "JN5OCli8BONe"
   },
   "outputs": [],
   "source": [
    "ros = RandomOverSampler()\n",
    "X_train, y_train = ros.fit_resample(np.array(X_train).reshape(-1, 1), np.array(y_train).reshape(-1, 1));\n",
    "train_os = pd.DataFrame(list(zip([x[0] for x in X_train], y_train)), columns = ['text_clean', 'sentiment']);"
   ]
  },
  {
   "cell_type": "code",
   "execution_count": 35,
   "metadata": {
    "execution": {
     "iopub.execute_input": "2023-06-02T02:03:25.660657Z",
     "iopub.status.busy": "2023-06-02T02:03:25.660310Z",
     "iopub.status.idle": "2023-06-02T02:03:25.665758Z",
     "shell.execute_reply": "2023-06-02T02:03:25.664901Z",
     "shell.execute_reply.started": "2023-06-02T02:03:25.660615Z"
    },
    "id": "qAwnlrGoBONe"
   },
   "outputs": [],
   "source": [
    "X_train = train_os['text_clean'].values\n",
    "y_train = train_os['sentiment'].values"
   ]
  },
  {
   "cell_type": "code",
   "execution_count": 36,
   "metadata": {
    "execution": {
     "iopub.execute_input": "2023-06-02T02:03:25.667562Z",
     "iopub.status.busy": "2023-06-02T02:03:25.667173Z",
     "iopub.status.idle": "2023-06-02T02:03:25.681800Z",
     "shell.execute_reply": "2023-06-02T02:03:25.681064Z",
     "shell.execute_reply.started": "2023-06-02T02:03:25.667522Z"
    },
    "id": "zNopbN4gBONe",
    "outputId": "77ac78ff-a8ce-48f8-923c-57f5b8dc066f"
   },
   "outputs": [
    {
     "data": {
      "text/plain": [
       "array([[   0, 5015],\n",
       "       [   1, 5015],\n",
       "       [   2, 5015],\n",
       "       [   3, 5015],\n",
       "       [   4, 5015]])"
      ]
     },
     "execution_count": 36,
     "metadata": {},
     "output_type": "execute_result"
    }
   ],
   "source": [
    "(unique, counts) = np.unique(y_train, return_counts=True)\n",
    "np.asarray((unique, counts)).T"
   ]
  },
  {
   "cell_type": "markdown",
   "metadata": {},
   "source": [
    "# PyTorch LSTM RNN w/ Attention"
   ]
  },
  {
   "cell_type": "markdown",
   "metadata": {},
   "source": [
    "In this section, we will define a custom Unidirectional and Bidirectional LSTM using PyTorch in order to perform the Sentiment Analysis on the tweets."
   ]
  },
  {
   "cell_type": "markdown",
   "metadata": {
    "id": "QZpta6PbBONf"
   },
   "source": [
    "## Data preprocessing for LSTM"
   ]
  },
  {
   "cell_type": "code",
   "execution_count": 44,
   "metadata": {
    "execution": {
     "iopub.execute_input": "2023-06-02T02:03:26.844852Z",
     "iopub.status.busy": "2023-06-02T02:03:26.844596Z",
     "iopub.status.idle": "2023-06-02T02:03:26.854699Z",
     "shell.execute_reply": "2023-06-02T02:03:26.853433Z",
     "shell.execute_reply.started": "2023-06-02T02:03:26.844819Z"
    },
    "id": "PAhPX58mpM0i"
   },
   "outputs": [],
   "source": [
    "def Tokenize(column, seq_len):\n",
    "    ##Create vocabulary of words from column\n",
    "    corpus = [word for text in column for word in text.split()]\n",
    "    count_words = Counter(corpus)\n",
    "    sorted_words = count_words.most_common()\n",
    "    vocab_to_int = {w:i+1 for i, (w,c) in enumerate(sorted_words)}\n",
    "\n",
    "    ##Tokenize the columns text using the vocabulary\n",
    "    text_int = []\n",
    "    for text in column:\n",
    "        r = [vocab_to_int[word] for word in text.split()]\n",
    "        text_int.append(r)\n",
    "    ##Add padding to tokens\n",
    "    features = np.zeros((len(text_int), seq_len), dtype = int)\n",
    "    for i, review in enumerate(text_int):\n",
    "        if len(review) <= seq_len:\n",
    "            zeros = list(np.zeros(seq_len - len(review)))\n",
    "            new = zeros + review\n",
    "        else:\n",
    "            new = review[: seq_len]\n",
    "        features[i, :] = np.array(new)\n",
    "\n",
    "    return sorted_words, features"
   ]
  },
  {
   "cell_type": "code",
   "execution_count": 45,
   "metadata": {
    "execution": {
     "iopub.execute_input": "2023-06-02T02:03:26.857297Z",
     "iopub.status.busy": "2023-06-02T02:03:26.856858Z",
     "iopub.status.idle": "2023-06-02T02:03:27.691485Z",
     "shell.execute_reply": "2023-06-02T02:03:27.690675Z",
     "shell.execute_reply.started": "2023-06-02T02:03:26.857251Z"
    },
    "id": "Huovl-tkq9pr"
   },
   "outputs": [],
   "source": [
    "vocabulary, tokenized_column = Tokenize(df[\"text_clean\"], max_len)"
   ]
  },
  {
   "cell_type": "markdown",
   "metadata": {},
   "source": [
    "We can check how each tweet has been tokenized with an example:"
   ]
  },
  {
   "cell_type": "code",
   "execution_count": 46,
   "metadata": {
    "execution": {
     "iopub.execute_input": "2023-06-02T02:03:27.693018Z",
     "iopub.status.busy": "2023-06-02T02:03:27.692741Z",
     "iopub.status.idle": "2023-06-02T02:03:27.698560Z",
     "shell.execute_reply": "2023-06-02T02:03:27.697866Z",
     "shell.execute_reply.started": "2023-06-02T02:03:27.692981Z"
    }
   },
   "outputs": [
    {
     "data": {
      "text/plain": [
       "'word katandandre food crapilicious mkr'"
      ]
     },
     "execution_count": 46,
     "metadata": {},
     "output_type": "execute_result"
    }
   ],
   "source": [
    "df[\"text_clean\"].iloc[0]"
   ]
  },
  {
   "cell_type": "markdown",
   "metadata": {},
   "source": [
    "This sentence is transformed to the vector:"
   ]
  },
  {
   "cell_type": "code",
   "execution_count": 47,
   "metadata": {
    "execution": {
     "iopub.execute_input": "2023-06-02T02:03:27.700273Z",
     "iopub.status.busy": "2023-06-02T02:03:27.699731Z",
     "iopub.status.idle": "2023-06-02T02:03:27.710123Z",
     "shell.execute_reply": "2023-06-02T02:03:27.709394Z",
     "shell.execute_reply.started": "2023-06-02T02:03:27.700232Z"
    }
   },
   "outputs": [
    {
     "data": {
      "text/plain": [
       "array([    0,     0,     0,     0,     0,     0,     0,     0,     0,\n",
       "           0,     0,     0,     0,     0,     0,     0,     0,     0,\n",
       "           0,     0,     0,     0,     0,     0,     0,     0,     0,\n",
       "           0,    11,  7699, 15536])"
      ]
     },
     "execution_count": 47,
     "metadata": {},
     "output_type": "execute_result"
    }
   ],
   "source": [
    "tokenized_column[10]"
   ]
  },
  {
   "cell_type": "markdown",
   "metadata": {},
   "source": [
    "Moreover we can also check the TOP 20 most common words by extracting them from the vocabulary python dictionary we created with the tokenizer."
   ]
  },
  {
   "cell_type": "code",
   "execution_count": 48,
   "metadata": {
    "execution": {
     "iopub.execute_input": "2023-06-02T02:03:27.712030Z",
     "iopub.status.busy": "2023-06-02T02:03:27.711233Z",
     "iopub.status.idle": "2023-06-02T02:03:27.717792Z",
     "shell.execute_reply": "2023-06-02T02:03:27.717082Z",
     "shell.execute_reply.started": "2023-06-02T02:03:27.711982Z"
    }
   },
   "outputs": [],
   "source": [
    "keys = []\n",
    "values = []\n",
    "for key, value in vocabulary[:20]:\n",
    "    keys.append(key)\n",
    "    values.append(value)"
   ]
  },
  {
   "cell_type": "code",
   "execution_count": 49,
   "metadata": {
    "_kg_hide-input": true,
    "execution": {
     "iopub.execute_input": "2023-06-02T02:03:27.719757Z",
     "iopub.status.busy": "2023-06-02T02:03:27.718892Z",
     "iopub.status.idle": "2023-06-02T02:03:28.304275Z",
     "shell.execute_reply": "2023-06-02T02:03:28.303513Z",
     "shell.execute_reply.started": "2023-06-02T02:03:27.719710Z"
    }
   },
   "outputs": [
    {
     "name": "stderr",
     "output_type": "stream",
     "text": [
      "/opt/conda/lib/python3.7/site-packages/seaborn/_decorators.py:43: FutureWarning: Pass the following variables as keyword args: x, y. From version 0.12, the only valid positional argument will be `data`, and passing other arguments without an explicit keyword will result in an error or misinterpretation.\n",
      "  FutureWarning\n"
     ]
    },
    {
     "data": {
      "image/png": "[encoded data removed]",
      "text/plain": [
       "<Figure size 1080x360 with 1 Axes>"
      ]
     },
     "metadata": {},
     "output_type": "display_data"
    }
   ],
   "source": [
    "plt.figure(figsize=(15, 5))\n",
    "ax = sns.barplot(keys, values, palette='mako')\n",
    "plt.title('Top 20 most common words', size=25)\n",
    "ax.bar_label(ax.containers[0])\n",
    "plt.ylabel(\"Words count\")\n",
    "plt.show()"
   ]
  },
  {
   "cell_type": "markdown",
   "metadata": {},
   "source": [
    "# Word Embedding by Word2Vec"
   ]
  },
  {
   "cell_type": "markdown",
   "metadata": {},
   "source": [
    "Next, we will create a word embedding matrix using the original text tweets and the pre trained model Word2vec.<br>\n",
    "First, we create a list of words from the X_train vector created before."
   ]
  },
  {
   "cell_type": "code",
   "execution_count": 50,
   "metadata": {
    "execution": {
     "iopub.execute_input": "2023-06-02T02:03:28.306370Z",
     "iopub.status.busy": "2023-06-02T02:03:28.305569Z",
     "iopub.status.idle": "2023-06-02T02:03:28.346348Z",
     "shell.execute_reply": "2023-06-02T02:03:28.345580Z",
     "shell.execute_reply.started": "2023-06-02T02:03:28.306326Z"
    }
   },
   "outputs": [],
   "source": [
    "Word2vec_train_data = list(map(lambda x: x.split(), X_train))"
   ]
  },
  {
   "cell_type": "markdown",
   "metadata": {},
   "source": [
    "We set a dimension of the embedding words, which can be seen as the number of featurs of each transformed word."
   ]
  },
  {
   "cell_type": "code",
   "execution_count": 51,
   "metadata": {
    "execution": {
     "iopub.execute_input": "2023-06-02T02:03:28.347985Z",
     "iopub.status.busy": "2023-06-02T02:03:28.347610Z",
     "iopub.status.idle": "2023-06-02T02:03:28.352454Z",
     "shell.execute_reply": "2023-06-02T02:03:28.351471Z",
     "shell.execute_reply.started": "2023-06-02T02:03:28.347938Z"
    }
   },
   "outputs": [],
   "source": [
    "EMBEDDING_DIM = 200"
   ]
  },
  {
   "cell_type": "markdown",
   "metadata": {},
   "source": [
    "Then we can instaniate the Word2Vec model by passing the training words and chosen embedding dimension to the imported Word2vec object."
   ]
  },
  {
   "cell_type": "code",
   "execution_count": 52,
   "metadata": {
    "execution": {
     "iopub.execute_input": "2023-06-02T02:03:28.354418Z",
     "iopub.status.busy": "2023-06-02T02:03:28.353924Z",
     "iopub.status.idle": "2023-06-02T02:03:31.171524Z",
     "shell.execute_reply": "2023-06-02T02:03:31.170733Z",
     "shell.execute_reply.started": "2023-06-02T02:03:28.354378Z"
    }
   },
   "outputs": [],
   "source": [
    "word2vec_model = Word2Vec(Word2vec_train_data, vector_size=EMBEDDING_DIM)"
   ]
  },
  {
   "cell_type": "markdown",
   "metadata": {},
   "source": [
    "Before defining the embedding matrix, we also need to choose the max number of words. We will extract the number of words from the vocabulary python dictionary we created before."
   ]
  },
  {
   "cell_type": "code",
   "execution_count": 53,
   "metadata": {
    "execution": {
     "iopub.execute_input": "2023-06-02T02:03:31.175157Z",
     "iopub.status.busy": "2023-06-02T02:03:31.174938Z",
     "iopub.status.idle": "2023-06-02T02:03:31.182099Z",
     "shell.execute_reply": "2023-06-02T02:03:31.181346Z",
     "shell.execute_reply.started": "2023-06-02T02:03:31.175127Z"
    }
   },
   "outputs": [
    {
     "name": "stdout",
     "output_type": "stream",
     "text": [
      "Vocabulary size: 37570\n"
     ]
    }
   ],
   "source": [
    "print(f\"Vocabulary size: {len(vocabulary) + 1}\")"
   ]
  },
  {
   "cell_type": "code",
   "execution_count": 54,
   "metadata": {
    "execution": {
     "iopub.execute_input": "2023-06-02T02:03:31.183782Z",
     "iopub.status.busy": "2023-06-02T02:03:31.183301Z",
     "iopub.status.idle": "2023-06-02T02:03:31.190430Z",
     "shell.execute_reply": "2023-06-02T02:03:31.189618Z",
     "shell.execute_reply.started": "2023-06-02T02:03:31.183742Z"
    }
   },
   "outputs": [],
   "source": [
    "VOCAB_SIZE = len(vocabulary) + 1 #+1 for the padding"
   ]
  },
  {
   "cell_type": "markdown",
   "metadata": {},
   "source": [
    "Finally we can define the embedding matrix."
   ]
  },
  {
   "cell_type": "code",
   "execution_count": 55,
   "metadata": {
    "execution": {
     "iopub.execute_input": "2023-06-02T02:03:31.192256Z",
     "iopub.status.busy": "2023-06-02T02:03:31.191982Z",
     "iopub.status.idle": "2023-06-02T02:03:31.237607Z",
     "shell.execute_reply": "2023-06-02T02:03:31.236826Z",
     "shell.execute_reply.started": "2023-06-02T02:03:31.192219Z"
    }
   },
   "outputs": [
    {
     "name": "stdout",
     "output_type": "stream",
     "text": [
      "Embedding Matrix Shape: (37570, 200)\n"
     ]
    }
   ],
   "source": [
    "# Define an empty embedding matrix of shape (VOCAB_SIZE, EMBEDDING_DIM)\n",
    "embedding_matrix = np.zeros((VOCAB_SIZE, EMBEDDING_DIM))\n",
    "\n",
    "# Fill the embedding matrix with pre-trained values from word2vec\n",
    "for word, token in vocabulary:\n",
    "    # Check if the word is present in the word2vec model's vocabulary\n",
    "    if word in word2vec_model.wv.key_to_index:\n",
    "        # If the word is present, retrieve its embedding vector and add it to the embedding matrix\n",
    "        embedding_vector = word2vec_model.wv[word]\n",
    "        embedding_matrix[token] = embedding_vector\n",
    "\n",
    "# Print the shape of the embedding matrix\n",
    "print(\"Embedding Matrix Shape:\", embedding_matrix.shape)"
   ]
  },
  {
   "cell_type": "markdown",
   "metadata": {},
   "source": [
    "## Train - Validation - Test split"
   ]
  },
  {
   "cell_type": "markdown",
   "metadata": {},
   "source": [
    "Now we will use the tokenized sentences to create a training, validation and test datasets."
   ]
  },
  {
   "cell_type": "code",
   "execution_count": 56,
   "metadata": {
    "execution": {
     "iopub.execute_input": "2023-06-02T02:03:31.239404Z",
     "iopub.status.busy": "2023-06-02T02:03:31.238945Z",
     "iopub.status.idle": "2023-06-02T02:03:31.243421Z",
     "shell.execute_reply": "2023-06-02T02:03:31.242713Z",
     "shell.execute_reply.started": "2023-06-02T02:03:31.239364Z"
    },
    "id": "xPzbx9jFBONg"
   },
   "outputs": [],
   "source": [
    "X = tokenized_column\n",
    "y = df['sentiment'].values"
   ]
  },
  {
   "cell_type": "code",
   "execution_count": 57,
   "metadata": {
    "execution": {
     "iopub.execute_input": "2023-06-02T02:03:31.245407Z",
     "iopub.status.busy": "2023-06-02T02:03:31.244933Z",
     "iopub.status.idle": "2023-06-02T02:03:31.280401Z",
     "shell.execute_reply": "2023-06-02T02:03:31.279619Z",
     "shell.execute_reply.started": "2023-06-02T02:03:31.245368Z"
    },
    "id": "HQJ-XSMzBONg"
   },
   "outputs": [],
   "source": [
    "X_train, X_test, y_train, y_test = train_test_split(X, y, test_size=0.2, stratify=y, random_state=seed_value)"
   ]
  },
  {
   "cell_type": "code",
   "execution_count": 58,
   "metadata": {
    "execution": {
     "iopub.execute_input": "2023-06-02T02:03:31.281967Z",
     "iopub.status.busy": "2023-06-02T02:03:31.281667Z",
     "iopub.status.idle": "2023-06-02T02:03:31.309990Z",
     "shell.execute_reply": "2023-06-02T02:03:31.309282Z",
     "shell.execute_reply.started": "2023-06-02T02:03:31.281928Z"
    },
    "id": "aeca_zUVBONg"
   },
   "outputs": [],
   "source": [
    "X_train, X_valid, y_train, y_valid = train_test_split(X_train, y_train, test_size=0.2, stratify=y_train, random_state=seed_value)"
   ]
  },
  {
   "cell_type": "markdown",
   "metadata": {},
   "source": [
    "We can check the balance of the target classes:"
   ]
  },
  {
   "cell_type": "code",
   "execution_count": 59,
   "metadata": {
    "execution": {
     "iopub.execute_input": "2023-06-02T02:03:31.311626Z",
     "iopub.status.busy": "2023-06-02T02:03:31.311127Z",
     "iopub.status.idle": "2023-06-02T02:03:31.320095Z",
     "shell.execute_reply": "2023-06-02T02:03:31.319040Z",
     "shell.execute_reply.started": "2023-06-02T02:03:31.311585Z"
    },
    "id": "FX77tlMuBONg",
    "outputId": "cc16a7b1-1bfd-4ddf-91b9-168cc767d48d"
   },
   "outputs": [
    {
     "data": {
      "text/plain": [
       "array([[   0, 5015],\n",
       "       [   1, 4965],\n",
       "       [   2, 4701],\n",
       "       [   3, 4626],\n",
       "       [   4, 3886]])"
      ]
     },
     "execution_count": 59,
     "metadata": {},
     "output_type": "execute_result"
    }
   ],
   "source": [
    "(unique, counts) = np.unique(y_train, return_counts=True)\n",
    "np.asarray((unique, counts)).T"
   ]
  },
  {
   "cell_type": "markdown",
   "metadata": {},
   "source": [
    "And then apply random oversampling on the training set."
   ]
  },
  {
   "cell_type": "code",
   "execution_count": 60,
   "metadata": {
    "execution": {
     "iopub.execute_input": "2023-06-02T02:03:31.322117Z",
     "iopub.status.busy": "2023-06-02T02:03:31.321809Z",
     "iopub.status.idle": "2023-06-02T02:03:31.344222Z",
     "shell.execute_reply": "2023-06-02T02:03:31.343454Z",
     "shell.execute_reply.started": "2023-06-02T02:03:31.322076Z"
    },
    "id": "sFRMuSdrBONh"
   },
   "outputs": [],
   "source": [
    "ros = RandomOverSampler()\n",
    "X_train_os, y_train_os = ros.fit_resample(np.array(X_train),np.array(y_train));"
   ]
  },
  {
   "cell_type": "code",
   "execution_count": 61,
   "metadata": {
    "execution": {
     "iopub.execute_input": "2023-06-02T02:03:31.345848Z",
     "iopub.status.busy": "2023-06-02T02:03:31.345550Z",
     "iopub.status.idle": "2023-06-02T02:03:31.353139Z",
     "shell.execute_reply": "2023-06-02T02:03:31.352195Z",
     "shell.execute_reply.started": "2023-06-02T02:03:31.345809Z"
    },
    "id": "OQl1UY2BUt-m",
    "outputId": "86bfb6eb-0116-4777-89b7-6e474c7467d0"
   },
   "outputs": [
    {
     "data": {
      "text/plain": [
       "array([[   0, 5015],\n",
       "       [   1, 5015],\n",
       "       [   2, 5015],\n",
       "       [   3, 5015],\n",
       "       [   4, 5015]])"
      ]
     },
     "execution_count": 61,
     "metadata": {},
     "output_type": "execute_result"
    }
   ],
   "source": [
    "(unique, counts) = np.unique(y_train_os, return_counts=True)\n",
    "np.asarray((unique, counts)).T"
   ]
  },
  {
   "cell_type": "markdown",
   "metadata": {},
   "source": [
    "## PyTorch datasets and dataloaders"
   ]
  },
  {
   "cell_type": "markdown",
   "metadata": {},
   "source": [
    "The three sets will be transformed to tensor datasets and dataloaders so we can extract the data in batches for the LSTM training, validation and testing."
   ]
  },
  {
   "cell_type": "code",
   "execution_count": 62,
   "metadata": {
    "execution": {
     "iopub.execute_input": "2023-06-02T02:03:31.354996Z",
     "iopub.status.busy": "2023-06-02T02:03:31.354580Z",
     "iopub.status.idle": "2023-06-02T02:03:31.362974Z",
     "shell.execute_reply": "2023-06-02T02:03:31.362158Z",
     "shell.execute_reply.started": "2023-06-02T02:03:31.354959Z"
    },
    "id": "O-e9FHZp5Qsc"
   },
   "outputs": [],
   "source": [
    "train_data = TensorDataset(torch.from_numpy(X_train_os), torch.from_numpy(y_train_os))\n",
    "test_data = TensorDataset(torch.from_numpy(X_test), torch.from_numpy(y_test))\n",
    "valid_data = TensorDataset(torch.from_numpy(X_valid), torch.from_numpy(y_valid))"
   ]
  },
  {
   "cell_type": "code",
   "execution_count": 63,
   "metadata": {
    "execution": {
     "iopub.execute_input": "2023-06-02T02:03:31.364634Z",
     "iopub.status.busy": "2023-06-02T02:03:31.364358Z",
     "iopub.status.idle": "2023-06-02T02:03:31.370533Z",
     "shell.execute_reply": "2023-06-02T02:03:31.369765Z",
     "shell.execute_reply.started": "2023-06-02T02:03:31.364597Z"
    },
    "id": "RfzfdlUFX8al"
   },
   "outputs": [],
   "source": [
    "BATCH_SIZE = 32"
   ]
  },
  {
   "cell_type": "code",
   "execution_count": 64,
   "metadata": {
    "execution": {
     "iopub.execute_input": "2023-06-02T02:03:31.372341Z",
     "iopub.status.busy": "2023-06-02T02:03:31.372030Z",
     "iopub.status.idle": "2023-06-02T02:03:31.380031Z",
     "shell.execute_reply": "2023-06-02T02:03:31.379264Z",
     "shell.execute_reply.started": "2023-06-02T02:03:31.372261Z"
    },
    "id": "S2TGQjB4X7UQ"
   },
   "outputs": [],
   "source": [
    "train_loader = DataLoader(train_data, shuffle=True, batch_size=BATCH_SIZE, drop_last=True) \n",
    "valid_loader = DataLoader(valid_data, shuffle=False, batch_size=BATCH_SIZE, drop_last=True)\n",
    "test_loader = DataLoader(test_data, shuffle=False, batch_size=BATCH_SIZE, drop_last=True)"
   ]
  },
  {
   "cell_type": "markdown",
   "metadata": {},
   "source": [
    "# PyTorch LSTM modeling with Attention Layer"
   ]
  },
  {
   "cell_type": "code",
   "execution_count": 65,
   "metadata": {
    "execution": {
     "iopub.execute_input": "2023-06-02T02:03:31.382065Z",
     "iopub.status.busy": "2023-06-02T02:03:31.381479Z",
     "iopub.status.idle": "2023-06-02T02:03:31.400363Z",
     "shell.execute_reply": "2023-06-02T02:03:31.399719Z",
     "shell.execute_reply.started": "2023-06-02T02:03:31.382026Z"
    }
   },
   "outputs": [],
   "source": [
    "class Attention(nn.Module):\n",
    "    def __init__(self, hidden_dim, is_bidirectional):\n",
    "        super(Attention, self).__init__()\n",
    "        self.is_bidirectional = is_bidirectional\n",
    "        # The attention linear layer which transforms the input data to the hidden space\n",
    "        self.attn = nn.Linear(hidden_dim * (4 if is_bidirectional else 2), hidden_dim * (2 if is_bidirectional else 1))\n",
    "        # The linear layer that calculates the attention scores\n",
    "        self.v = nn.Linear(hidden_dim * (2 if is_bidirectional else 1), 1, bias=False)\n",
    "\n",
    "    def forward(self, hidden, encoder_outputs):\n",
    "        seq_len = encoder_outputs.size(1)\n",
    "        # Concatenate the last two hidden states in case of a bidirectional LSTM\n",
    "        if self.is_bidirectional:\n",
    "            hidden = torch.cat((hidden[-2], hidden[-1]), dim=-1)\n",
    "        else:\n",
    "            hidden = hidden[-1]\n",
    "        # Repeat the hidden state across the sequence length\n",
    "        hidden_repeated = hidden.unsqueeze(1).repeat(1, seq_len, 1)\n",
    "        # Calculate attention weights\n",
    "        attn_weights = torch.tanh(self.attn(torch.cat((hidden_repeated, encoder_outputs), dim=2)))\n",
    "        # Compute attention scores\n",
    "        attn_weights = self.v(attn_weights).squeeze(2)\n",
    "        # Apply softmax to get valid probabilities\n",
    "        return nn.functional.softmax(attn_weights, dim=1)\n",
    "\n",
    "\n",
    "class LSTM_Sentiment_Classifier(nn.Module):\n",
    "    def __init__(self, vocab_size, embedding_dim, hidden_dim, num_classes, lstm_layers, dropout, is_bidirectional):\n",
    "        super(LSTM_Sentiment_Classifier, self).__init__()\n",
    "        self.hidden_dim = hidden_dim\n",
    "        self.num_layers = lstm_layers\n",
    "        self.is_bidirectional = is_bidirectional\n",
    "\n",
    "        # The Embedding layer that converts input words to embeddings\n",
    "        self.embedding = nn.Embedding(vocab_size, embedding_dim)\n",
    "        # LSTM layer which processes the embeddings\n",
    "        self.lstm = nn.LSTM(embedding_dim, hidden_dim, lstm_layers, batch_first=True, bidirectional=is_bidirectional)\n",
    "        # Attention layer to compute the context vector\n",
    "        self.attention = Attention(hidden_dim, is_bidirectional)\n",
    "        # Fully connected layer which classifies the context vector into classes\n",
    "        self.fc = nn.Linear(hidden_dim * (2 if is_bidirectional else 1), num_classes)\n",
    "        # Apply LogSoftmax to outputs for numerical stability\n",
    "        self.softmax = nn.LogSoftmax(dim=1)\n",
    "        # Dropout layer for regularisation\n",
    "        self.dropout = nn.Dropout(dropout)\n",
    "\n",
    "    def forward(self, x, hidden):\n",
    "        # Transform words to embeddings\n",
    "        embedded = self.embedding(x)\n",
    "        # Pass embeddings to LSTM\n",
    "        out, hidden = self.lstm(embedded, hidden)\n",
    "        # Calculate attention weights\n",
    "        attn_weights = self.attention(hidden[0], out)\n",
    "        # Calculate context vector by taking the weighted sum of LSTM outputs\n",
    "        context = attn_weights.unsqueeze(1).bmm(out).squeeze(1)\n",
    "        # Classify the context vector\n",
    "        out = self.softmax(self.fc(context))\n",
    "        return out, hidden\n",
    "\n",
    "    def init_hidden(self, batch_size):\n",
    "        # Factor determines the size of hidden states depending on bidirectionality\n",
    "        factor = 2 if self.is_bidirectional else 1\n",
    "        # Initial hidden and cell states are zero\n",
    "        h0 = torch.zeros(self.num_layers * factor, batch_size, self.hidden_dim).to(DEVICE)\n",
    "        c0 = torch.zeros(self.num_layers * factor, batch_size, self.hidden_dim).to(DEVICE)\n",
    "        hidden"
   ]
  },
  {
   "cell_type": "code",
   "execution_count": 66,
   "metadata": {
    "execution": {
     "iopub.execute_input": "2023-06-02T02:03:31.402462Z",
     "iopub.status.busy": "2023-06-02T02:03:31.401924Z",
     "iopub.status.idle": "2023-06-02T02:03:34.082516Z",
     "shell.execute_reply": "2023-06-02T02:03:34.081710Z",
     "shell.execute_reply.started": "2023-06-02T02:03:31.402423Z"
    }
   },
   "outputs": [
    {
     "name": "stdout",
     "output_type": "stream",
     "text": [
      "LSTM_Sentiment_Classifier(\n",
      "  (embedding): Embedding(37570, 200)\n",
      "  (lstm): LSTM(200, 100, batch_first=True)\n",
      "  (attention): Attention(\n",
      "    (attn): Linear(in_features=200, out_features=100, bias=True)\n",
      "    (v): Linear(in_features=100, out_features=1, bias=False)\n",
      "  )\n",
      "  (fc): Linear(in_features=100, out_features=5, bias=True)\n",
      "  (softmax): LogSoftmax(dim=1)\n",
      "  (dropout): Dropout(p=0.5, inplace=False)\n",
      ")\n"
     ]
    }
   ],
   "source": [
    "NUM_CLASSES = 5 #We are dealing with a multiclass classification of 5 classes\n",
    "HIDDEN_DIM = 100 #number of neurons of the internal state (internal neural network in the LSTM)\n",
    "LSTM_LAYERS = 1 #Number of stacked LSTM layers\n",
    "\n",
    "IS_BIDIRECTIONAL = False # Set this to False for unidirectional LSTM, and True for bidirectional LSTM\n",
    "\n",
    "LR = 4e-4 #Learning rate\n",
    "DROPOUT = 0.5 #LSTM Dropout\n",
    "EPOCHS = 10 #Number of training epoch\n",
    "\n",
    "DEVICE = 'cuda' if torch.cuda.is_available() else 'cpu'\n",
    "\n",
    "model = LSTM_Sentiment_Classifier(VOCAB_SIZE, EMBEDDING_DIM, HIDDEN_DIM, NUM_CLASSES, LSTM_LAYERS, DROPOUT, IS_BIDIRECTIONAL)\n",
    "\n",
    "model = model.to(DEVICE)\n",
    "\n",
    "# Initialize the embedding layer with the previously defined embedding matrix\n",
    "model.embedding.weight.data.copy_(torch.from_numpy(embedding_matrix))\n",
    "# Allow the embedding matrix to be fine-tuned to better adapt to our dataset and get higher accuracy\n",
    "model.embedding.weight.requires_grad = True\n",
    "\n",
    "# Set up the criterion (loss function)\n",
    "criterion = nn.NLLLoss()\n",
    "optimizer = torch.optim.AdamW(model.parameters(), lr=LR, weight_decay = 5e-6)\n",
    "\n",
    "print(model)"
   ]
  },
  {
   "cell_type": "markdown",
   "metadata": {},
   "source": [
    "# LSTM Training loop "
   ]
  },
  {
   "cell_type": "markdown",
   "metadata": {},
   "source": [
    "Now we will define a custom training loop, where we include an early stopping functionality, and save only the best models in terms of validation accuracy."
   ]
  },
  {
   "cell_type": "code",
   "execution_count": 67,
   "metadata": {
    "execution": {
     "iopub.execute_input": "2023-06-02T02:03:34.084493Z",
     "iopub.status.busy": "2023-06-02T02:03:34.084043Z",
     "iopub.status.idle": "2023-06-02T02:04:08.723187Z",
     "shell.execute_reply": "2023-06-02T02:04:08.722377Z",
     "shell.execute_reply.started": "2023-06-02T02:03:34.084452Z"
    },
    "id": "5rK3YPVT5Qsd"
   },
   "outputs": [
    {
     "name": "stdout",
     "output_type": "stream",
     "text": [
      "Epoch 1:Validation accuracy increased (0.000000 --> 92.058011).  Saving model ...\n",
      "\tTrain_loss : 0.6215 Val_loss : 0.2344\n",
      "\tTrain_acc : 75.806% Val_acc : 92.058%\n",
      "Epoch 2:Validation accuracy increased (92.058011 --> 92.800414).  Saving model ...\n",
      "\tTrain_loss : 0.1746 Val_loss : 0.2172\n",
      "\tTrain_acc : 94.265% Val_acc : 92.800%\n",
      "Epoch 3:Validation accuracy increased (92.800414 --> 93.111188).  Saving model ...\n",
      "\tTrain_loss : 0.1030 Val_loss : 0.2198\n",
      "\tTrain_acc : 96.715% Val_acc : 93.111%\n",
      "Epoch 4:Validation accuracy did not increase\n",
      "\tTrain_loss : 0.0608 Val_loss : 0.2779\n",
      "\tTrain_acc : 98.092% Val_acc : 91.730%\n",
      "Epoch 5:Validation accuracy did not increase\n",
      "\tTrain_loss : 0.0386 Val_loss : 0.2917\n",
      "\tTrain_acc : 98.867% Val_acc : 91.747%\n",
      "Epoch 6:Validation accuracy did not increase\n",
      "\tTrain_loss : 0.0272 Val_loss : 0.3287\n",
      "\tTrain_acc : 99.238% Val_acc : 91.333%\n",
      "Epoch 7:Validation accuracy did not increase\n",
      "\tTrain_loss : 0.0201 Val_loss : 0.3336\n",
      "\tTrain_acc : 99.433% Val_acc : 91.367%\n",
      "Epoch 8:Validation accuracy did not increase\n",
      "Early stopped at epoch : 8\n"
     ]
    }
   ],
   "source": [
    "total_step = len(train_loader)\n",
    "total_step_val = len(valid_loader)\n",
    "\n",
    "early_stopping_patience = 4\n",
    "early_stopping_counter = 0\n",
    "\n",
    "valid_acc_max = 0 # Initialize best accuracy top 0\n",
    "\n",
    "for e in range(EPOCHS):\n",
    "\n",
    "    #lists to host the train and validation losses of every batch for each epoch\n",
    "    train_loss, valid_loss  = [], []\n",
    "    #lists to host the train and validation accuracy of every batch for each epoch\n",
    "    train_acc, valid_acc  = [], []\n",
    "\n",
    "    #lists to host the train and validation predictions of every batch for each epoch\n",
    "    y_train_list, y_val_list = [], []\n",
    "\n",
    "    #initalize number of total and correctly classified texts during training and validation\n",
    "    correct, correct_val = 0, 0\n",
    "    total, total_val = 0, 0\n",
    "    running_loss, running_loss_val = 0, 0\n",
    "\n",
    "\n",
    "    ####TRAINING LOOP####\n",
    "\n",
    "    model.train()\n",
    "\n",
    "    for inputs, labels in train_loader:\n",
    "        inputs, labels = inputs.to(DEVICE), labels.to(DEVICE) #load features and targets in device\n",
    "\n",
    "        h = model.init_hidden(labels.size(0))\n",
    "\n",
    "        model.zero_grad() #reset gradients \n",
    "\n",
    "        output, h = model(inputs,h) #get output and hidden states from LSTM network\n",
    "        \n",
    "        loss = criterion(output, labels)\n",
    "        loss.backward()\n",
    "        \n",
    "        running_loss += loss.item()\n",
    "        \n",
    "        optimizer.step()\n",
    "\n",
    "        y_pred_train = torch.argmax(output, dim=1) #get tensor of predicted values on the training set\n",
    "        y_train_list.extend(y_pred_train.squeeze().tolist()) #transform tensor to list and the values to the list\n",
    "        \n",
    "        correct += torch.sum(y_pred_train==labels).item() #count correctly classified texts per batch\n",
    "        total += labels.size(0) #count total texts per batch\n",
    "\n",
    "    train_loss.append(running_loss / total_step)\n",
    "    train_acc.append(100 * correct / total)\n",
    "\n",
    "    ####VALIDATION LOOP####\n",
    "    \n",
    "    with torch.no_grad():\n",
    "        \n",
    "        model.eval()\n",
    "        \n",
    "        for inputs, labels in valid_loader:\n",
    "            inputs, labels = inputs.to(DEVICE), labels.to(DEVICE)\n",
    "\n",
    "            val_h = model.init_hidden(labels.size(0))\n",
    "\n",
    "            output, val_h = model(inputs, val_h)\n",
    "\n",
    "            val_loss = criterion(output, labels)\n",
    "            running_loss_val += val_loss.item()\n",
    "\n",
    "            y_pred_val = torch.argmax(output, dim=1)\n",
    "            y_val_list.extend(y_pred_val.squeeze().tolist())\n",
    "\n",
    "            correct_val += torch.sum(y_pred_val==labels).item()\n",
    "            total_val += labels.size(0)\n",
    "\n",
    "        valid_loss.append(running_loss_val / total_step_val)\n",
    "        valid_acc.append(100 * correct_val / total_val)\n",
    "\n",
    "    #Save model if validation accuracy increases\n",
    "    if np.mean(valid_acc) >= valid_acc_max:\n",
    "        torch.save(model.state_dict(), './state_dict.pt')\n",
    "        print(f'Epoch {e+1}:Validation accuracy increased ({valid_acc_max:.6f} --> {np.mean(valid_acc):.6f}).  Saving model ...')\n",
    "        valid_acc_max = np.mean(valid_acc)\n",
    "        early_stopping_counter=0 #reset counter if validation accuracy increases\n",
    "    else:\n",
    "        print(f'Epoch {e+1}:Validation accuracy did not increase')\n",
    "        early_stopping_counter+=1 #increase counter if validation accuracy does not increase\n",
    "        \n",
    "    if early_stopping_counter > early_stopping_patience:\n",
    "        print('Early stopped at epoch :', e+1)\n",
    "        break\n",
    "    \n",
    "    print(f'\\tTrain_loss : {np.mean(train_loss):.4f} Val_loss : {np.mean(valid_loss):.4f}')\n",
    "    print(f'\\tTrain_acc : {np.mean(train_acc):.3f}% Val_acc : {np.mean(valid_acc):.3f}%')"
   ]
  },
  {
   "cell_type": "code",
   "execution_count": 68,
   "metadata": {
    "execution": {
     "iopub.execute_input": "2023-06-02T02:04:08.724848Z",
     "iopub.status.busy": "2023-06-02T02:04:08.724569Z",
     "iopub.status.idle": "2023-06-02T02:04:08.756488Z",
     "shell.execute_reply": "2023-06-02T02:04:08.755527Z",
     "shell.execute_reply.started": "2023-06-02T02:04:08.724816Z"
    },
    "id": "wfTLdAi45Qsd"
   },
   "outputs": [
    {
     "data": {
      "text/plain": [
       "<All keys matched successfully>"
      ]
     },
     "execution_count": 68,
     "metadata": {},
     "output_type": "execute_result"
    }
   ],
   "source": [
    "# Loading the best model\n",
    "model.load_state_dict(torch.load('./state_dict.pt'))"
   ]
  },
  {
   "cell_type": "markdown",
   "metadata": {},
   "source": [
    "# LSTM Testing"
   ]
  },
  {
   "cell_type": "code",
   "execution_count": 69,
   "metadata": {
    "execution": {
     "iopub.execute_input": "2023-06-02T02:04:08.758414Z",
     "iopub.status.busy": "2023-06-02T02:04:08.758109Z",
     "iopub.status.idle": "2023-06-02T02:04:09.053117Z",
     "shell.execute_reply": "2023-06-02T02:04:09.052297Z",
     "shell.execute_reply.started": "2023-06-02T02:04:08.758375Z"
    },
    "id": "3ERsOjzW41tF"
   },
   "outputs": [],
   "source": [
    "def evaluate_model(model, test_loader):\n",
    "    model.eval()\n",
    "    y_pred_list = []\n",
    "    y_test_list = []\n",
    "    \n",
    "    with torch.no_grad():\n",
    "        for inputs, labels in test_loader:\n",
    "            inputs, labels = inputs.to(DEVICE), labels.to(DEVICE)\n",
    "            test_h = model.init_hidden(labels.size(0))\n",
    "\n",
    "            output, val_h = model(inputs, test_h)\n",
    "            y_pred_test = torch.argmax(output, dim=1)\n",
    "            y_pred_list.extend(y_pred_test.squeeze().tolist())\n",
    "            y_test_list.extend(labels.squeeze().tolist())\n",
    "    \n",
    "    return y_pred_list, y_test_list\n",
    "\n",
    "y_pred_list, y_test_list = evaluate_model(model, test_loader)"
   ]
  },
  {
   "cell_type": "code",
   "execution_count": 70,
   "metadata": {
    "_kg_hide-input": true,
    "execution": {
     "iopub.execute_input": "2023-06-02T02:04:09.054901Z",
     "iopub.status.busy": "2023-06-02T02:04:09.054605Z",
     "iopub.status.idle": "2023-06-02T02:04:09.081449Z",
     "shell.execute_reply": "2023-06-02T02:04:09.080599Z",
     "shell.execute_reply.started": "2023-06-02T02:04:09.054859Z"
    },
    "id": "tu6ex4zC5Qse"
   },
   "outputs": [
    {
     "name": "stdout",
     "output_type": "stream",
     "text": [
      "Classification Report for Bi-LSTM :\n",
      "               precision    recall  f1-score   support\n",
      "\n",
      "    religion       0.95      0.96      0.96      1568\n",
      "         age       0.98      0.98      0.98      1548\n",
      "   ethnicity       0.98      0.98      0.98      1461\n",
      "      gender       0.93      0.85      0.89      1443\n",
      "not bullying       0.79      0.86      0.82      1212\n",
      "\n",
      "    accuracy                           0.93      7232\n",
      "   macro avg       0.93      0.93      0.92      7232\n",
      "weighted avg       0.93      0.93      0.93      7232\n",
      "\n"
     ]
    }
   ],
   "source": [
    "print('Classification Report for Bi-LSTM :\\n', classification_report(y_test_list, y_pred_list, target_names=sentiments))"
   ]
  },
  {
   "cell_type": "code",
   "execution_count": 71,
   "metadata": {
    "_kg_hide-input": true,
    "execution": {
     "iopub.execute_input": "2023-06-02T02:04:09.083251Z",
     "iopub.status.busy": "2023-06-02T02:04:09.082977Z",
     "iopub.status.idle": "2023-06-02T02:04:09.436261Z",
     "shell.execute_reply": "2023-06-02T02:04:09.435568Z",
     "shell.execute_reply.started": "2023-06-02T02:04:09.083214Z"
    },
    "id": "vmE9K77s1qv_"
   },
   "outputs": [
    {
     "data": {
      "image/png": "[encoded data removed]",
      "text/plain": [
       "<Figure size 540x540 with 1 Axes>"
      ]
     },
     "metadata": {},
     "output_type": "display_data"
    }
   ],
   "source": [
    "conf_matrix(y_test_list,y_pred_list,'PyTorch Bi-LSTM Sentiment Analysis\\nConfusion Matrix', sentiments)"
   ]
  },
  {
   "cell_type": "markdown",
   "metadata": {},
   "source": [
    "**The performance scores of the algorithm are very high, with an overall accuracy of 93%.**<br>\n",
    "**In particular, the F1 scores for the more populated classes are over 95%**"
   ]
  }
 ],
 "metadata": {
  "kernelspec": {
   "display_name": "Python 3 (ipykernel)",
   "language": "python",
   "name": "python3"
  },
  "language_info": {
   "codemirror_mode": {
    "name": "ipython",
    "version": 3
   },
   "file_extension": ".py",
   "mimetype": "text/x-python",
   "name": "python",
   "nbconvert_exporter": "python",
   "pygments_lexer": "ipython3",
   "version": "3.9.13"
  }
 },
 "nbformat": 4,
 "nbformat_minor": 4
}
